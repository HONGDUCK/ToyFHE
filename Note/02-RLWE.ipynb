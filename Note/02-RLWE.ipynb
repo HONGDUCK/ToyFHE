{
 "cells": [
  {
   "cell_type": "markdown",
   "metadata": {},
   "source": [
    "# 02 - About $\\textsf{RLWE}$ and $\\textsf{RGSW}$.\n",
    "---\n",
    "\n",
    "From <a href='https://eprint.iacr.org/2020/086'> Bootstrapping in FHEW-like Cryptosystems </a>"
   ]
  },
  {
   "cell_type": "code",
   "execution_count": 1,
   "metadata": {},
   "outputs": [],
   "source": [
    "from note_include.elem.Ring import *\n",
    "from note_include.elem.RLWE import *"
   ]
  },
  {
   "cell_type": "markdown",
   "metadata": {},
   "source": [
    "---\n",
    "#### Parameters"
   ]
  },
  {
   "cell_type": "code",
   "execution_count": 2,
   "metadata": {},
   "outputs": [],
   "source": [
    "n = 16\n",
    "q = 7681\n",
    "std = 1"
   ]
  },
  {
   "cell_type": "markdown",
   "metadata": {},
   "source": [
    "---\n",
    "Simple Example of Ring"
   ]
  },
  {
   "cell_type": "code",
   "execution_count": 3,
   "metadata": {},
   "outputs": [
    {
     "name": "stdout",
     "output_type": "stream",
     "text": [
      "R(n=16, q=7681, coeffs= 1 + 2x + 3x^2 + 4x^3 + 5x^4 + 6x^5 + 7x^6 + 8x^7 + 9x^8 + 10x^9 + 11x^10 + 12x^11 + 13x^12 + 14x^13 + 15x^14 + 16x^15)\n",
      "R(n=16, q=7681, coeffs= 7666.0 + 0.0x + 1.0x^2 + 2.0x^3 + 3.0x^4 + 4.0x^5 + 5.0x^6 + 6.0x^7 + 7.0x^8 + 8.0x^9 + 9.0x^10 + 10.0x^11 + 11.0x^12 + 12.0x^13 + 13.0x^14 + 14.0x^15)\n"
     ]
    }
   ],
   "source": [
    "# Test for Ring\n",
    "a = [i for i in range(n)]\n",
    "b = [1 for _ in range(n)]\n",
    "c = np.zeros(n)\n",
    "c[1] = 1\n",
    "\n",
    "ring_poly1    = Ring(n, q, a)\n",
    "ring_poly2    = Ring(n, q, b)\n",
    "ring_monomial = Ring(n, q, c)\n",
    "\n",
    "print(ring_poly1 + ring_poly2)\n",
    "print(ring_poly1 * ring_monomial)\n"
   ]
  },
  {
   "cell_type": "markdown",
   "metadata": {},
   "source": [
    "---\n",
    "Simple example of RLWE"
   ]
  },
  {
   "cell_type": "code",
   "execution_count": 4,
   "metadata": {},
   "outputs": [
    {
     "name": "stdout",
     "output_type": "stream",
     "text": [
      "poly_a :  R(n=16, q=7681, coeffs= 100 + 100x + 100x^2 + 100x^3 + 100x^4 + 100x^5 + 100x^6 + 100x^7 + 100x^8 + 100x^9 + 100x^10 + 100x^11 + 100x^12 + 100x^13 + 100x^14 + 100x^15)\n",
      "poly_b :  R(n=16, q=7681, coeffs= 100 + 100x + 100x^2 + 100x^3 + 100x^4 + 100x^5 + 100x^6 + 100x^7 + 100x^8 + 100x^9 + 100x^10 + 100x^11 + 100x^12 + 100x^13 + 100x^14 + 100x^15)\n",
      "---------------------------------------------------------\n"
     ]
    }
   ],
   "source": [
    "rlwe   = RLWE(n, q, std)\n",
    "sk, pk = rlwe.keygen()\n",
    "\n",
    "a                = [100 for _ in range(n)]\n",
    "b                = [100 for _ in range(n)]\n",
    "\n",
    "poly_a           = Ring(n, q, a)\n",
    "poly_b           = Ring(n, q, b)\n",
    "\n",
    "print('poly_a : ', poly_a)\n",
    "print('poly_b : ', poly_b)\n",
    "print('---------------------------------------------------------')"
   ]
  },
  {
   "cell_type": "markdown",
   "metadata": {},
   "source": [
    "----\n",
    "Encryption and Decryption"
   ]
  },
  {
   "cell_type": "code",
   "execution_count": 5,
   "metadata": {},
   "outputs": [
    {
     "name": "stdout",
     "output_type": "stream",
     "text": [
      "ctxt_a :  (R(n=16, q=7681, coeffs= 1240 + 67x + 4310x^2 + 6733x^3 + 5010x^4 + 2294x^5 + 1154x^6 + 8x^7 + 4383x^8 + 5789x^9 + 4824x^10 + 6255x^11 + 1140x^12 + 5434x^13 + 4358x^14 + 6761x^15), R(n=16, q=7681, coeffs= 3869 + 4642x + 365x^2 + 7654x^3 + 581x^4 + 2375x^5 + 4991x^6 + 151x^7 + 5774x^8 + 5517x^9 + 7449x^10 + 3074x^11 + 3252x^12 + 1617x^13 + 2783x^14 + 1051x^15))\n",
      "ctxt_b :  (R(n=16, q=7681, coeffs= 1904 + 5887x + 6845x^2 + 2042x^3 + 7332x^4 + 5489x^5 + 6938x^6 + 1083x^7 + 1179x^8 + 4427x^9 + 4469x^10 + 3484x^11 + 5973x^12 + 4455x^13 + 4359x^14 + 713x^15), R(n=16, q=7681, coeffs= 6024 + 2941x + 4589x^2 + 2037x^3 + 1601x^4 + 671x^5 + 6592x^6 + 10x^7 + 1017x^8 + 701x^9 + 5544x^10 + 6204x^11 + 5763x^12 + 3786x^13 + 4612x^14 + 133x^15))\n",
      "---------------------------------------------------------\n",
      "ptxt_a :  R(n=16, q=7681, coeffs= 98 + 100x + 103x^2 + 100x^3 + 101x^4 + 100x^5 + 100x^6 + 100x^7 + 101x^8 + 101x^9 + 100x^10 + 102x^11 + 99x^12 + 101x^13 + 100x^14 + 99x^15)\n",
      "ptxt_b :  R(n=16, q=7681, coeffs= 100 + 98x + 101x^2 + 100x^3 + 100x^4 + 101x^5 + 99x^6 + 100x^7 + 100x^8 + 98x^9 + 101x^10 + 98x^11 + 101x^12 + 101x^13 + 101x^14 + 99x^15)\n",
      "---------------------------------------------------------\n"
     ]
    }
   ],
   "source": [
    "ctxt_a           = rlwe.encrypt(poly_a, sk)\n",
    "ctxt_b           = rlwe.encrypt(poly_b, sk)\n",
    "\n",
    "ptxt_a           = rlwe.decrypt(ctxt_a, sk)\n",
    "ptxt_b           = rlwe.decrypt(ctxt_b, sk)\n",
    "\n",
    "\n",
    "print('ctxt_a : ', ctxt_a) # (a, b)\n",
    "print('ctxt_b : ', ctxt_b) # (a, b)\n",
    "print('---------------------------------------------------------')\n",
    "\n",
    "print('ptxt_a : ',ptxt_a)\n",
    "print('ptxt_b : ',ptxt_b)\n",
    "print('---------------------------------------------------------')"
   ]
  },
  {
   "cell_type": "markdown",
   "metadata": {},
   "source": [
    "---\n",
    "Homomorphic addition and constant addition"
   ]
  },
  {
   "cell_type": "code",
   "execution_count": 6,
   "metadata": {},
   "outputs": [
    {
     "name": "stdout",
     "output_type": "stream",
     "text": [
      "ptxt_add       :  R(n=16, q=7681, coeffs= 198 + 198x + 204x^2 + 200x^3 + 201x^4 + 201x^5 + 199x^6 + 200x^7 + 201x^8 + 199x^9 + 201x^10 + 200x^11 + 200x^12 + 202x^13 + 201x^14 + 198x^15)\n",
      "ptxt_add_const :  R(n=16, q=7681, coeffs= 110 + 108x + 111x^2 + 110x^3 + 110x^4 + 111x^5 + 109x^6 + 110x^7 + 110x^8 + 108x^9 + 111x^10 + 108x^11 + 111x^12 + 111x^13 + 111x^14 + 109x^15)\n",
      "---------------------------------------------------------\n"
     ]
    }
   ],
   "source": [
    "constant         = [10 for _ in range(n)]\n",
    "poly_const       = Ring(n, q, constant)\n",
    "\n",
    "ctxt_add         = rlwe.add_ctxt_ctxt(ctxt_a, ctxt_b)\n",
    "ctxt_add_const   = rlwe.add_ctxt_ptxt(ctxt_b, poly_const)\n",
    "\n",
    "ptxt_add         = rlwe.decrypt(ctxt_add, sk)\n",
    "ptxt_add_const   = rlwe.decrypt(ctxt_add_const, sk)\n",
    "\n",
    "print('ptxt_add       : ', ptxt_add)\n",
    "print('ptxt_add_const : ', ptxt_add_const)\n",
    "print('---------------------------------------------------------')"
   ]
  },
  {
   "cell_type": "markdown",
   "metadata": {},
   "source": [
    "---\n",
    "Homomorphic multiplication with plaintext polynomial with small magnitude coeffcients\n",
    "\n",
    "Note that now we are in ring $\\Z_q[x]/(x^n+1)$, so multiplication between two polynomials is negacyclic convolution."
   ]
  },
  {
   "cell_type": "code",
   "execution_count": 7,
   "metadata": {},
   "outputs": [
    {
     "name": "stdout",
     "output_type": "stream",
     "text": [
      "Homomorphic result :  R(n=16, q=7681, coeffs= 7413 + 7453x + 7497x^2 + 7533x^3 + 7577x^4 + 7617x^5 + 7645x^6 + 7677x^7 + 36x^8 + 76x^9 + 116x^10 + 156x^11 + 196x^12 + 232x^13 + 272x^14 + 308x^15)\n",
      "Pure result        :  R(n=16, q=7681, coeffs= 7401.0 + 7441.0x + 7481.0x^2 + 7521.0x^3 + 7561.0x^4 + 7601.0x^5 + 7641.0x^6 + 0.0x^7 + 40.0x^8 + 80.0x^9 + 120.0x^10 + 160.0x^11 + 200.0x^12 + 240.0x^13 + 280.0x^14 + 320.0x^15)\n"
     ]
    }
   ],
   "source": [
    "a                = [10 for _ in range(n)]\n",
    "small_const      = [2  for _ in range(n)]\n",
    "poly_a           = Ring(n, q, a)\n",
    "poly_small_const = Ring(n, q, small_const)\n",
    "\n",
    "ctxt_a           = rlwe.encrypt(poly_a, sk)\n",
    "ctxt_mul         = rlwe.mult_ring_ptxt(ctxt_a, poly_small_const)\n",
    "ptxt_mul         = rlwe.decrypt(ctxt_mul, sk)\n",
    "\n",
    "print(\"Homomorphic result : \", ptxt_mul)\n",
    "print(\"Pure result        : \", poly_a * poly_small_const)"
   ]
  },
  {
   "cell_type": "markdown",
   "metadata": {},
   "source": []
  }
 ],
 "metadata": {
  "kernelspec": {
   "display_name": "Python 3",
   "language": "python",
   "name": "python3"
  },
  "language_info": {
   "codemirror_mode": {
    "name": "ipython",
    "version": 3
   },
   "file_extension": ".py",
   "mimetype": "text/x-python",
   "name": "python",
   "nbconvert_exporter": "python",
   "pygments_lexer": "ipython3",
   "version": "3.10.12"
  }
 },
 "nbformat": 4,
 "nbformat_minor": 2
}
