{
 "cells": [
  {
   "cell_type": "markdown",
   "metadata": {},
   "source": [
    "# 02 - About $\\textsf{RLWE}$ and $\\textsf{RGSW}$.\n",
    "---\n",
    "\n",
    "From <a href='https://eprint.iacr.org/2020/086'> Bootstrapping in FHEW-like Cryptosystems </a>"
   ]
  },
  {
   "cell_type": "code",
   "execution_count": 1,
   "metadata": {},
   "outputs": [],
   "source": [
    "from note_include.Ring import *\n",
    "from note_include.RLWE import *"
   ]
  },
  {
   "cell_type": "markdown",
   "metadata": {},
   "source": [
    "---\n",
    "#### Parameters"
   ]
  },
  {
   "cell_type": "code",
   "execution_count": 2,
   "metadata": {},
   "outputs": [],
   "source": [
    "n = 16\n",
    "q = 7681\n",
    "std = 1"
   ]
  },
  {
   "cell_type": "markdown",
   "metadata": {},
   "source": [
    "---\n",
    "Simple Example of Ring"
   ]
  },
  {
   "cell_type": "code",
   "execution_count": 3,
   "metadata": {},
   "outputs": [
    {
     "name": "stdout",
     "output_type": "stream",
     "text": [
      "R(n=16, q=7681, coeffs= 1 + 2x + 3x^2 + 4x^3 + 5x^4 + 6x^5 + 7x^6 + 8x^7 + 9x^8 + 10x^9 + 11x^10 + 12x^11 + 13x^12 + 14x^13 + 15x^14 + 16x^15)\n",
      "R(n=16, q=7681, coeffs= 7666.0 + 0.0x + 1.0x^2 + 2.0x^3 + 3.0x^4 + 4.0x^5 + 5.0x^6 + 6.0x^7 + 7.0x^8 + 8.0x^9 + 9.0x^10 + 10.0x^11 + 11.0x^12 + 12.0x^13 + 13.0x^14 + 14.0x^15)\n"
     ]
    }
   ],
   "source": [
    "# Test for Ring\n",
    "a = [i for i in range(n)]\n",
    "b = [1 for _ in range(n)]\n",
    "c = np.zeros(n)\n",
    "c[1] = 1\n",
    "\n",
    "ring_poly1    = Ring(n, q, a)\n",
    "ring_poly2    = Ring(n, q, b)\n",
    "ring_monomial = Ring(n, q, c)\n",
    "\n",
    "print(ring_poly1 + ring_poly2)\n",
    "print(ring_poly1 * ring_monomial)\n"
   ]
  },
  {
   "cell_type": "markdown",
   "metadata": {},
   "source": [
    "---\n",
    "Simple example of RLWE"
   ]
  },
  {
   "cell_type": "code",
   "execution_count": 4,
   "metadata": {},
   "outputs": [
    {
     "name": "stdout",
     "output_type": "stream",
     "text": [
      "poly_a :  R(n=16, q=7681, coeffs= 100 + 100x + 100x^2 + 100x^3 + 100x^4 + 100x^5 + 100x^6 + 100x^7 + 100x^8 + 100x^9 + 100x^10 + 100x^11 + 100x^12 + 100x^13 + 100x^14 + 100x^15)\n",
      "poly_b :  R(n=16, q=7681, coeffs= 100 + 100x + 100x^2 + 100x^3 + 100x^4 + 100x^5 + 100x^6 + 100x^7 + 100x^8 + 100x^9 + 100x^10 + 100x^11 + 100x^12 + 100x^13 + 100x^14 + 100x^15)\n",
      "---------------------------------------------------------\n"
     ]
    }
   ],
   "source": [
    "rlwe   = RLWE(n, q, std)\n",
    "sk, pk = rlwe.keygen()\n",
    "\n",
    "a                = [100 for _ in range(n)]\n",
    "b                = [100 for _ in range(n)]\n",
    "\n",
    "poly_a           = Ring(n, q, a)\n",
    "poly_b           = Ring(n, q, b)\n",
    "\n",
    "print('poly_a : ', poly_a)\n",
    "print('poly_b : ', poly_b)\n",
    "print('---------------------------------------------------------')"
   ]
  },
  {
   "cell_type": "markdown",
   "metadata": {},
   "source": [
    "----\n",
    "Encryption and Decryption"
   ]
  },
  {
   "cell_type": "code",
   "execution_count": 5,
   "metadata": {},
   "outputs": [
    {
     "name": "stdout",
     "output_type": "stream",
     "text": [
      "ctxt_a :  (R(n=16, q=7681, coeffs= 1931 + 4826x + 556x^2 + 7364x^3 + 1175x^4 + 3279x^5 + 7384x^6 + 4588x^7 + 277x^8 + 3415x^9 + 2791x^10 + 4769x^11 + 961x^12 + 1039x^13 + 1069x^14 + 961x^15), R(n=16, q=7681, coeffs= 5892.0 + 3280.0x + 5886.0x^2 + 7528.0x^3 + 3279.0x^4 + 5469.0x^5 + 1907.0x^6 + 3005.0x^7 + 982.0x^8 + 1755.0x^9 + 2898.0x^10 + 5728.0x^11 + 3478.0x^12 + 4174.0x^13 + 446.0x^14 + 940.0x^15))\n",
      "ctxt_b :  (R(n=16, q=7681, coeffs= 1648 + 3604x + 5255x^2 + 3392x^3 + 1222x^4 + 290x^5 + 4880x^6 + 7222x^7 + 1406x^8 + 1516x^9 + 2527x^10 + 5346x^11 + 4828x^12 + 5430x^13 + 753x^14 + 3441x^15), R(n=16, q=7681, coeffs= 5399.0 + 5753.0x + 1056.0x^2 + 55.0x^3 + 2985.0x^4 + 6100.0x^5 + 3830.0x^6 + 5444.0x^7 + 5511.0x^8 + 2327.0x^9 + 2778.0x^10 + 5190.0x^11 + 856.0x^12 + 2128.0x^13 + 5862.0x^14 + 2120.0x^15))\n",
      "---------------------------------------------------------\n",
      "ptxt_a :  R(n=16, q=7681, coeffs= 100.0 + 100.0x + 101.0x^2 + 98.0x^3 + 100.0x^4 + 100.0x^5 + 99.0x^6 + 100.0x^7 + 100.0x^8 + 101.0x^9 + 100.0x^10 + 100.0x^11 + 101.0x^12 + 98.0x^13 + 100.0x^14 + 103.0x^15)\n",
      "ptxt_b :  R(n=16, q=7681, coeffs= 100.0 + 102.0x + 100.0x^2 + 100.0x^3 + 100.0x^4 + 99.0x^5 + 100.0x^6 + 100.0x^7 + 100.0x^8 + 98.0x^9 + 98.0x^10 + 100.0x^11 + 99.0x^12 + 100.0x^13 + 99.0x^14 + 100.0x^15)\n",
      "---------------------------------------------------------\n"
     ]
    }
   ],
   "source": [
    "ctxt_a           = rlwe.encrypt(poly_a, sk)\n",
    "ctxt_b           = rlwe.encrypt(poly_b, sk)\n",
    "\n",
    "ptxt_a           = rlwe.decrypt(ctxt_a, sk)\n",
    "ptxt_b           = rlwe.decrypt(ctxt_b, sk)\n",
    "\n",
    "\n",
    "print('ctxt_a : ', ctxt_a) # (a, b)\n",
    "print('ctxt_b : ', ctxt_b) # (a, b)\n",
    "print('---------------------------------------------------------')\n",
    "\n",
    "print('ptxt_a : ',ptxt_a)\n",
    "print('ptxt_b : ',ptxt_b)\n",
    "print('---------------------------------------------------------')"
   ]
  },
  {
   "cell_type": "markdown",
   "metadata": {},
   "source": [
    "---\n",
    "Homomorphic addition and constant addition"
   ]
  },
  {
   "cell_type": "code",
   "execution_count": 6,
   "metadata": {},
   "outputs": [
    {
     "name": "stdout",
     "output_type": "stream",
     "text": [
      "ptxt_add       :  R(n=16, q=7681, coeffs= 200.0 + 202.0x + 201.0x^2 + 198.0x^3 + 200.0x^4 + 199.0x^5 + 199.0x^6 + 200.0x^7 + 200.0x^8 + 199.0x^9 + 198.0x^10 + 200.0x^11 + 200.0x^12 + 198.0x^13 + 199.0x^14 + 203.0x^15)\n",
      "ptxt_add_const :  R(n=16, q=7681, coeffs= 110.0 + 112.0x + 110.0x^2 + 110.0x^3 + 110.0x^4 + 109.0x^5 + 110.0x^6 + 110.0x^7 + 110.0x^8 + 108.0x^9 + 108.0x^10 + 110.0x^11 + 109.0x^12 + 110.0x^13 + 109.0x^14 + 110.0x^15)\n",
      "---------------------------------------------------------\n"
     ]
    }
   ],
   "source": [
    "constant         = [10 for _ in range(n)]\n",
    "poly_const       = Ring(n, q, constant)\n",
    "\n",
    "ctxt_add         = rlwe.add_ctxt_ctxt(ctxt_a, ctxt_b)\n",
    "ctxt_add_const   = rlwe.add_ctxt_ptxt(ctxt_b, poly_const)\n",
    "\n",
    "ptxt_add         = rlwe.decrypt(ctxt_add, sk)\n",
    "ptxt_add_const   = rlwe.decrypt(ctxt_add_const, sk)\n",
    "\n",
    "print('ptxt_add       : ', ptxt_add)\n",
    "print('ptxt_add_const : ', ptxt_add_const)\n",
    "print('---------------------------------------------------------')"
   ]
  },
  {
   "cell_type": "markdown",
   "metadata": {},
   "source": [
    "---\n",
    "Homomorphic multiplication with plaintext polynomial with small magnitude coeffcients\n",
    "\n",
    "Note that now we are in ring $\\Z_q[x]/(x^n+1)$, so multiplication between two polynomials is negacyclic convolution."
   ]
  },
  {
   "cell_type": "code",
   "execution_count": 7,
   "metadata": {},
   "outputs": [
    {
     "name": "stdout",
     "output_type": "stream",
     "text": [
      "Homomorphic result :  R(n=16, q=7681, coeffs= 7409.0 + 7449.0x + 7489.0x^2 + 7529.0x^3 + 7573.0x^4 + 7609.0x^5 + 7641.0x^6 + 0.0x^7 + 40.0x^8 + 80.0x^9 + 124.0x^10 + 160.0x^11 + 196.0x^12 + 236.0x^13 + 280.0x^14 + 312.0x^15)\n",
      "Pure result        :  R(n=16, q=7681, coeffs= 7401.0 + 7441.0x + 7481.0x^2 + 7521.0x^3 + 7561.0x^4 + 7601.0x^5 + 7641.0x^6 + 0.0x^7 + 40.0x^8 + 80.0x^9 + 120.0x^10 + 160.0x^11 + 200.0x^12 + 240.0x^13 + 280.0x^14 + 320.0x^15)\n"
     ]
    }
   ],
   "source": [
    "a                = [10 for _ in range(n)]\n",
    "small_const      = [2  for _ in range(n)]\n",
    "poly_a           = Ring(n, q, a)\n",
    "poly_small_const = Ring(n, q, small_const)\n",
    "\n",
    "ctxt_a           = rlwe.encrypt(poly_a, sk)\n",
    "ctxt_mul         = rlwe.mult_ring_ptxt(ctxt_a, poly_small_const)\n",
    "ptxt_mul         = rlwe.decrypt(ctxt_mul, sk)\n",
    "\n",
    "print(\"Homomorphic result : \", ptxt_mul)\n",
    "print(\"Pure result        : \", poly_a * poly_small_const)"
   ]
  },
  {
   "cell_type": "markdown",
   "metadata": {},
   "source": []
  }
 ],
 "metadata": {
  "kernelspec": {
   "display_name": "Python 3",
   "language": "python",
   "name": "python3"
  },
  "language_info": {
   "codemirror_mode": {
    "name": "ipython",
    "version": 3
   },
   "file_extension": ".py",
   "mimetype": "text/x-python",
   "name": "python",
   "nbconvert_exporter": "python",
   "pygments_lexer": "ipython3",
   "version": "3.10.12"
  }
 },
 "nbformat": 4,
 "nbformat_minor": 2
}
