{
 "cells": [
  {
   "cell_type": "markdown",
   "metadata": {},
   "source": [
    "# 01 - LWE"
   ]
  },
  {
   "cell_type": "code",
   "execution_count": 21,
   "metadata": {},
   "outputs": [],
   "source": [
    "from note_include.elem.LWE import LWE\n"
   ]
  },
  {
   "cell_type": "code",
   "execution_count": 22,
   "metadata": {},
   "outputs": [
    {
     "name": "stdout",
     "output_type": "stream",
     "text": [
      "a         :  [ 12  95 125 115  73   7  73  15  69  40 125  19  38  70  96  13]\n",
      "b         :  30.0\n",
      "s         :  [  4.   5.   1. 127.   1.   2. 124.   0.   0. 127. 119.   2. 127. 126.\n",
      " 124. 125.]\n",
      "Message   :  20\n",
      "Plaintext :  22.0\n"
     ]
    }
   ],
   "source": [
    "n = 16\n",
    "q = 128\n",
    "std = 3.2\n",
    "m = 20\n",
    "\n",
    "lwe = LWE(n, q, std)\n",
    "s   = lwe.keygen()\n",
    "\n",
    "ctxt = lwe.encrypt(m, s)\n",
    "ptxt = lwe.decrypt(ctxt, s)\n",
    "\n",
    "a, b = ctxt\n",
    "print(\"a         : \", a)\n",
    "print(\"b         : \", b)\n",
    "print(\"s         : \", s)\n",
    "print(\"Message   : \", m)\n",
    "print(\"Plaintext : \", ptxt)"
   ]
  },
  {
   "cell_type": "code",
   "execution_count": 23,
   "metadata": {},
   "outputs": [
    {
     "name": "stdout",
     "output_type": "stream",
     "text": [
      "Message   :  70\n",
      "Plaintext :  76.0\n"
     ]
    }
   ],
   "source": [
    "m1 = 30\n",
    "m2 = 40\n",
    "\n",
    "ctxt1 = lwe.encrypt(m1, s)\n",
    "ctxt2 = lwe.encrypt(m2, s)\n",
    "ctxt_add = lwe.add(ctxt1, ctxt2)\n",
    "\n",
    "ptxt = lwe.decrypt(ctxt_add, s)\n",
    "\n",
    "print(\"Message   : \", m1 + m2)\n",
    "print(\"Plaintext : \", ptxt)"
   ]
  },
  {
   "cell_type": "code",
   "execution_count": 24,
   "metadata": {},
   "outputs": [
    {
     "name": "stdout",
     "output_type": "stream",
     "text": [
      "Message   :  60\n",
      "Plaintext :  62.0\n"
     ]
    }
   ],
   "source": [
    "m = 30\n",
    "d = 2\n",
    "\n",
    "ctxt          = lwe.encrypt(m, s)\n",
    "ctxt_mul_cnst = lwe.mult_cnst(ctxt, d)\n",
    "\n",
    "ptxt = lwe.decrypt(ctxt_mul_cnst, s)\n",
    "\n",
    "print(\"Message   : \", m * d)\n",
    "print(\"Plaintext : \", ptxt)"
   ]
  },
  {
   "cell_type": "code",
   "execution_count": null,
   "metadata": {},
   "outputs": [],
   "source": []
  },
  {
   "cell_type": "code",
   "execution_count": null,
   "metadata": {},
   "outputs": [],
   "source": []
  }
 ],
 "metadata": {
  "kernelspec": {
   "display_name": "Python 3",
   "language": "python",
   "name": "python3"
  },
  "language_info": {
   "codemirror_mode": {
    "name": "ipython",
    "version": 3
   },
   "file_extension": ".py",
   "mimetype": "text/x-python",
   "name": "python",
   "nbconvert_exporter": "python",
   "pygments_lexer": "ipython3",
   "version": "3.10.12"
  }
 },
 "nbformat": 4,
 "nbformat_minor": 2
}
