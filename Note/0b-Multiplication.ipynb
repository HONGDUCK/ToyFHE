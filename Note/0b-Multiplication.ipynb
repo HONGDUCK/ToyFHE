{
 "cells": [
  {
   "cell_type": "markdown",
   "metadata": {},
   "source": [
    "# 05 - About Multiplication in RLWE\n",
    "---\n",
    "There are two methods of multiplication\n",
    "\n",
    "* Utilize $\\textsf{Relinearization}$\n",
    "* Utilize $\\textsf{RGSW}$ \n",
    "\n",
    "And we will try to component-wise multiplication via $\\textsf{(I)FFT}$\n",
    "\n",
    "---"
   ]
  },
  {
   "cell_type": "code",
   "execution_count": 1,
   "metadata": {},
   "outputs": [],
   "source": [
    "import numpy as np\n",
    "from numpy.polynomial import Polynomial"
   ]
  },
  {
   "cell_type": "markdown",
   "metadata": {},
   "source": [
    "---\n",
    "\n",
    "Parameters"
   ]
  },
  {
   "cell_type": "code",
   "execution_count": 2,
   "metadata": {},
   "outputs": [],
   "source": [
    "n     = 16\n",
    "q     = 7681\n",
    "std   = 3.2\n",
    "delta = 256\n",
    "xi    = np.exp(2 * np.pi * 1j / 2*n)"
   ]
  },
  {
   "cell_type": "markdown",
   "metadata": {},
   "source": [
    "---\n",
    "\n",
    "First of all, we will try to component-wise multiplication via Fourier Transformation and rescaling technique such as, BG(F)V and CKKS.\n",
    "\n",
    "We set dimension $n=16$ which means that it use $2n$-th cyclotomic ring.\n",
    "\n",
    "* $\\xi = \\exp(2 \\pi i / 2n) = \\exp(\\pi i / n)$"
   ]
  },
  {
   "cell_type": "code",
   "execution_count": 3,
   "metadata": {},
   "outputs": [
    {
     "name": "stdout",
     "output_type": "stream",
     "text": [
      "[ 5. 12. 21. 32.]\n"
     ]
    }
   ],
   "source": [
    "def componentwise_multiply_via_cyclic_convolution(a, b):\n",
    "    N = len(a)\n",
    "    # 입력 a와 b가 시간 영역에 있다고 보면, 먼저 ifft를 취해서 “쌍대 영역”으로 보냄\n",
    "    X = np.fft.ifft(a)\n",
    "    Y = np.fft.ifft(b)\n",
    "    \n",
    "    div = np.zeros(N+1)\n",
    "    div[0] = -1\n",
    "    div[-1] = 1\n",
    "\n",
    "    P = np.polymul(X[::-1], Y[::-1])\n",
    "    q, r = np.polydiv(P, div)\n",
    "\n",
    "    # X와 Y의 순환 합성곱을 계산\n",
    "    # Z = np.zeros(N, dtype=complex)\n",
    "    # for k in range(N):\n",
    "    #     for j in range(N):\n",
    "    #         Z[k] += X[j] * Y[(k - j) % N]\n",
    "\n",
    "    # 합성곱 결과에 fft를 취하면, 컨볼루션 정리(Convolution Theorem)에 의해\n",
    "    # fft(Z) = fft(X) ⊙ fft(Y) = a ⊙ b (성분별 곱)이 됨.\n",
    "    # result = np.fft.fft(Z)\n",
    "\n",
    "    result = np.fft.fft(r[::-1])\n",
    "    return result.real  # 만약 계수가 실수라면\n",
    "\n",
    "# 예시 사용:\n",
    "poly1_coef = np.array([1, 2, 3, 4])\n",
    "poly2_coef = np.array([5, 6, 7, 8])\n",
    "result = componentwise_multiply_via_cyclic_convolution(poly1_coef, poly2_coef)\n",
    "print(result)  # 기대: [5, 12, 21, 32]\n"
   ]
  },
  {
   "cell_type": "code",
   "execution_count": 4,
   "metadata": {},
   "outputs": [
    {
     "name": "stdout",
     "output_type": "stream",
     "text": [
      "[ 5. 12. 21. 32.]\n"
     ]
    }
   ],
   "source": [
    "def componentwise_multiply_via_negacyclic_convolution(a, b):\n",
    "    N = len(a)\n",
    "    # 입력 a, b가 시간 영역의 계수라고 가정할 때,\n",
    "    # 먼저 ifft를 취해 “쌍대 영역” (역변환 영역)로 옮김.\n",
    "    X = np.fft.ifft(a)  # X = (1/N)*F⁻¹(a)\n",
    "    Y = np.fft.ifft(b)  # Y = (1/N)*F⁻¹(b)\n",
    "    \n",
    "    # zeta = exp(pi*i/N): 2N차 원시 단위근 (zeta^N = -1)\n",
    "    j = np.arange(N)\n",
    "    zeta = np.exp(np.pi * 1j / N)\n",
    "    \n",
    "    # **쌍대 영역에서의 twisting:**  \n",
    "    # 원래 fft 쪽에서는 곱셈 인자가 zeta^j였으므로,\n",
    "    # ifft 쪽에서는 그 쌍대 효과로 zeta^(-j)를 곱해줍니다.\n",
    "    X_twisted = X * (zeta ** (-j))\n",
    "    Y_twisted = Y * (zeta ** (-j))\n",
    "    \n",
    "    div = np.zeros(N+1)\n",
    "    div[0]  = 1\n",
    "    div[-1] = 1\n",
    "\n",
    "    P = np.polymul(X_twisted[::-1], Y_twisted[::-1])\n",
    "    q, r = np.polydiv(P, div)\n",
    "    r = r[::-1]\n",
    "\n",
    "    # 부정순환 합성곱 (negacyclic convolution)을 계산\n",
    "    # conv_neg = np.zeros(N, dtype=complex)\n",
    "    # for m in range(N):\n",
    "    #     s = 0\n",
    "    #     for j_idx in range(N):\n",
    "    #         # m - j_idx가 음수가 될 경우에는 \"랩\"하면서 부호가 바뀌어야 함\n",
    "    #         if j_idx <= m:\n",
    "    #             s += X_twisted[j_idx] * Y_twisted[m - j_idx]\n",
    "    #         else:\n",
    "    #             s += - X_twisted[j_idx] * Y_twisted[N + m - j_idx]\n",
    "    #     conv_neg[m] = s\n",
    "\n",
    "    # **Untwisting 및 스케일 보정:**  \n",
    "    # 원래 untwisting에서는 fft 쪽에서 zeta^(-m)를 곱하고 1/N을 했으므로,\n",
    "    # ifft 쪽에서는 그 쌍대 효과로 zeta^(m)를 곱하고 N을 곱해줍니다.\n",
    "    # D = np.array([conv_neg[m] * (zeta ** (m)) for m in range(N)])\n",
    "    D = np.array([r[m] * (zeta ** (m)) for m in range(N)])\n",
    "\n",
    "    # 마지막에 fft를 취해 원래의 시간 영역(계수 영역)로 복원\n",
    "    result = np.fft.fft(D)\n",
    "    return result.real  # 계수가 실수라면\n",
    "\n",
    "# 예시 사용:\n",
    "poly1_coef = np.array([1, 2, 3, 4])\n",
    "poly2_coef = np.array([5, 6, 7, 8])\n",
    "result = componentwise_multiply_via_negacyclic_convolution(poly1_coef, poly2_coef)\n",
    "print(result)  # 기대 결과: [5, 12, 21, 32]\n"
   ]
  },
  {
   "cell_type": "code",
   "execution_count": 5,
   "metadata": {},
   "outputs": [
    {
     "name": "stdout",
     "output_type": "stream",
     "text": [
      "[13.68198052 25.61396103 20.81801948  8.38603897]\n"
     ]
    }
   ],
   "source": [
    "a = np.array([1, 2, 3, 4])\n",
    "b = np.array([5, 6, 7, 8])\n",
    "\n",
    "a = np.concatenate((a, a[::-1]))\n",
    "b = np.concatenate((b, b[::-1]))\n",
    "\n",
    "a = np.fft.ifft(a)\n",
    "b = np.fft.ifft(b)\n",
    "\n",
    "# _a_conj = np.conjugate(_a)\n",
    "# _b_conj = np.conjugate(_b)\n",
    "\n",
    "# a = np.concatenate((_a, _a_conj[::-1]))\n",
    "# b = np.concatenate((_b, _b_conj[::-1]))\n",
    "\n",
    "a = np.concatenate((a.real, a.imag))\n",
    "b = np.concatenate((b.real, b.imag))\n",
    "\n",
    "# print(a)\n",
    "# print(b)\n",
    "\n",
    "div    = np.zeros(9)\n",
    "div[0] =  -1\n",
    "div[-1] =  1\n",
    "\n",
    "q, r = np.polydiv(np.polymul(a[::-1],b[::-1]), div)\n",
    "\n",
    "r_real = r[:3:-1]\n",
    "r_imag = r[3::-1]\n",
    "r_complex = r_real + 1j * r_imag\n",
    "\n",
    "# print(r_complex)\n",
    "print(np.fft.fft(r_complex).real)\n",
    "\n",
    "# hmm .....\n"
   ]
  },
  {
   "cell_type": "code",
   "execution_count": null,
   "metadata": {},
   "outputs": [],
   "source": []
  },
  {
   "cell_type": "code",
   "execution_count": null,
   "metadata": {},
   "outputs": [],
   "source": []
  },
  {
   "cell_type": "code",
   "execution_count": null,
   "metadata": {},
   "outputs": [],
   "source": []
  },
  {
   "cell_type": "code",
   "execution_count": null,
   "metadata": {},
   "outputs": [],
   "source": []
  },
  {
   "cell_type": "code",
   "execution_count": null,
   "metadata": {},
   "outputs": [],
   "source": []
  },
  {
   "cell_type": "code",
   "execution_count": null,
   "metadata": {},
   "outputs": [],
   "source": []
  },
  {
   "cell_type": "code",
   "execution_count": null,
   "metadata": {},
   "outputs": [],
   "source": []
  },
  {
   "cell_type": "code",
   "execution_count": null,
   "metadata": {},
   "outputs": [],
   "source": []
  },
  {
   "cell_type": "code",
   "execution_count": 6,
   "metadata": {},
   "outputs": [],
   "source": [
    "def vandermonde(xi: np.complex128, M: int) -> np.array:\n",
    "    N = M // 2\n",
    "    matrix = []\n",
    "    for i in range(N):\n",
    "        root = xi ** (2 * i + 1)\n",
    "        row = []\n",
    "        for j in range(N):\n",
    "            row.append(root ** j)\n",
    "        matrix.append(row)\n",
    "    return matrix\n",
    "\n",
    "def sigma_inverse(A, b: np.array) -> Polynomial:\n",
    "    coeffs = np.linalg.solve(A, b)\n",
    "    p = Polynomial(coeffs)\n",
    "    return p"
   ]
  },
  {
   "cell_type": "code",
   "execution_count": 8,
   "metadata": {},
   "outputs": [
    {
     "name": "stdout",
     "output_type": "stream",
     "text": [
      "[[(1+0j), (0.7071067811865476+0.7071067811865475j), (2.220446049250313e-16+1j), (-0.7071067811865474+0.7071067811865477j)], [(1+0j), (-0.7071067811865474+0.7071067811865477j), (-4.440892098500626e-16-1j), (0.707106781186548+0.707106781186547j)], [(1+0j), (-0.7071067811865479-0.7071067811865471j), (1.1102230246251565e-15+1j), (0.7071067811865464-0.7071067811865487j)], [(1+0j), (0.707106781186547-0.707106781186548j), (-1.3877787807814457e-15-1j), (-0.707106781186549-0.707106781186546j)]]\n",
      "[ 5  2  0 -2]\n",
      "[5.5 +0.j   1.75-1.75j 0.  +0.j   1.75+1.75j]\n"
     ]
    }
   ],
   "source": [
    "M = 8\n",
    "N = 4\n",
    "xi = np.exp(2 * np.pi * 1j / M) # 2N-th primitive roots of unity\n",
    "\n",
    "mat = vandermonde(xi, M)\n",
    "print(mat)\n",
    "\n",
    "a = [9, 2]\n",
    "a = np.concatenate((a, a[::-1]))\n",
    "\n",
    "poly_a = sigma_inverse(mat, a)\n",
    "coef = np.round(np.real(poly_a.coef)).astype(int)\n",
    "\n",
    "print(coef)\n",
    "\n",
    "print(np.fft.ifft(a))\n"
   ]
  },
  {
   "cell_type": "code",
   "execution_count": 9,
   "metadata": {},
   "outputs": [
    {
     "name": "stdout",
     "output_type": "stream",
     "text": [
      "실수 부분: [ 5. 12. 21. 32.]\n",
      "허수 부분: [0. 0. 0. 0.]\n"
     ]
    }
   ],
   "source": [
    "import numpy as np\n",
    "\n",
    "def componentwise_multiply_separate_real_imag(a, b):\n",
    "    N = len(a)\n",
    "    \n",
    "    # IFFT 변환\n",
    "    X = np.fft.ifft(a)\n",
    "    Y = np.fft.ifft(b)\n",
    "    \n",
    "    # 실수 및 허수 부분 분리\n",
    "    X_r, X_i = X.real, X.imag\n",
    "    Y_r, Y_i = Y.real, Y.imag\n",
    "\n",
    "    # 복소수 곱셈의 실수 및 허수 부분 계산\n",
    "    P_r = np.polymul(X_r[::-1], Y_r[::-1]) - np.polymul(X_i[::-1], Y_i[::-1])\n",
    "    P_i = np.polymul(X_r[::-1], Y_i[::-1]) + np.polymul(X_i[::-1], Y_r[::-1])\n",
    "\n",
    "    # 나눗셈을 위한 다항식 정의 (X^N - 1)\n",
    "    div = np.zeros(N+1)\n",
    "    div[0] = -1\n",
    "    div[-1] = 1\n",
    "\n",
    "    # 실수 및 허수 부분 나누기\n",
    "    _, r_r = np.polydiv(P_r, div)\n",
    "    _, r_i = np.polydiv(P_i, div)\n",
    "\n",
    "    # FFT 변환 후 최종 결과 조합\n",
    "    result = np.fft.fft(r_r[::-1]) + 1j * np.fft.fft(r_i[::-1])\n",
    "    \n",
    "    return result\n",
    "\n",
    "# 테스트\n",
    "poly1_coef = np.array([1, 2, 3, 4])\n",
    "poly2_coef = np.array([5, 6, 7, 8])\n",
    "result = componentwise_multiply_separate_real_imag(poly1_coef, poly2_coef)\n",
    "\n",
    "print(\"실수 부분:\", result.real)  # 기대: [5, 12, 21, 32]\n",
    "print(\"허수 부분:\", result.imag)  # 기대: [0, 0, 0, 0] (이론적으로)\n"
   ]
  },
  {
   "cell_type": "code",
   "execution_count": 87,
   "metadata": {},
   "outputs": [
    {
     "name": "stdout",
     "output_type": "stream",
     "text": [
      "실수 부분: [ 5. 11. 21. 31.]\n",
      "허수 부분: [ 0.  1.  0. -1.]\n"
     ]
    }
   ],
   "source": [
    "import numpy as np\n",
    "\n",
    "def componentwise_multiply_single_polynomial(a, b):\n",
    "    N = len(a)\n",
    "\n",
    "    # IFFT 변환 (계수를 복소수로 변환)\n",
    "    X = np.fft.ifft(a)\n",
    "    Y = np.fft.ifft(b)\n",
    "    \n",
    "    # 하나의 다항식에 인코딩: 짝수 차수에 실수, 홀수 차수에 허수\n",
    "    Z = np.zeros(2 * N)\n",
    "    W = np.zeros(2 * N)\n",
    "    \n",
    "    Z[::2]  = X.real    # 짝수 차수: 실수 부분\n",
    "    Z[1::2] = X.imag   # 홀수 차수: 허수 부분\n",
    "    W[::2]  = Y.real \n",
    "    W[1::2] = Y.imag \n",
    "\n",
    "    # 다항식 곱셈 수행\n",
    "    P = np.polymul(Z[::-1], W[::-1])\n",
    "\n",
    "    # X^(2N) - 1로 나누기\n",
    "    div = np.zeros(2 * N + 1)\n",
    "    div[0] =  -1\n",
    "    div[-1] = 1\n",
    "    _, r = np.polydiv(P, div)\n",
    "\n",
    "    # 결과에서 실수와 허수 부분 복원\n",
    "    R_real = np.zeros(N)\n",
    "    R_imag = np.zeros(N)\n",
    "    \n",
    "    R_real = r[::-1][::2]  # 짝수 차수 계수 → 실수 부분\n",
    "    R_imag = r[::-1][1::2]  # 홀수 차수 계수 → 허수 부분\n",
    "\n",
    "    # FFT를 사용하여 최종 결과 변환\n",
    "    result = np.fft.fft(R_real + 1j * R_imag)\n",
    "    \n",
    "    return result\n",
    "\n",
    "# 테스트\n",
    "poly1_coef = np.array([1, 2, 3, 4])\n",
    "poly2_coef = np.array([5, 6, 7, 8])\n",
    "result = componentwise_multiply_single_polynomial(poly1_coef, poly2_coef)\n",
    "\n",
    "print(\"실수 부분:\", result.real )  # 기대: [5, 12, 21, 32]\n",
    "print(\"허수 부분:\", result.imag )  # 기대: [0, 0, 0, 0] (이론적으로)\n"
   ]
  },
  {
   "cell_type": "code",
   "execution_count": 92,
   "metadata": {},
   "outputs": [
    {
     "name": "stdout",
     "output_type": "stream",
     "text": [
      "실수 부분: [ -5. -31. -21. -11.]\n",
      "허수 부분: [ 0. -1.  0.  1.]\n"
     ]
    }
   ],
   "source": [
    "import numpy as np\n",
    "\n",
    "def componentwise_multiply_single_polynomial(a, b):\n",
    "    N = len(a)\n",
    "\n",
    "    # IFFT 변환 (계수를 복소수로 변환)\n",
    "    X = np.fft.ifft(a)\n",
    "    Y = np.fft.ifft(b)\n",
    "    \n",
    "    # 하나의 다항식에 인코딩: 짝수 차수에 실수, 홀수 차수에 허수\n",
    "    Z = np.zeros(2 * N)\n",
    "    W = np.zeros(2 * N)\n",
    "    \n",
    "    Z[::2]  = X.real    # 짝수 차수: 실수 부분\n",
    "    Z[1::2] = X.imag   # 홀수 차수: 허수 부분\n",
    "    W[::2]  = Y.real \n",
    "    W[1::2] = Y.imag \n",
    "\n",
    "    # 다항식 곱셈 수행\n",
    "    P = np.polymul(Z[::-1], W[::-1])\n",
    "\n",
    "    # X^(2N) + 1로 나누기\n",
    "    div = np.zeros(2 * N + 1)\n",
    "    div[0] = -1\n",
    "    div[-1] = 1  # 기존 X^(2N)-1에서 +1로 변경\n",
    "    _, r = np.polydiv(P, div)\n",
    "\n",
    "    # 부정순환곱 특성에 맞게 홀수 차수 항의 부호 반전\n",
    "    r[1::2] = -r[1::2]\n",
    "\n",
    "    # 결과에서 실수와 허수 부분 복원\n",
    "    R_real = np.zeros(N)\n",
    "    R_imag = np.zeros(N)\n",
    "    \n",
    "    R_real = r[::-1][::2]  # 짝수 차수 계수 → 실수 부분\n",
    "    R_imag = r[::-1][1::2]  # 홀수 차수 계수 → 허수 부분\n",
    "\n",
    "    # FFT를 사용하여 최종 결과 변환\n",
    "    result = np.fft.fft(R_real + 1j * R_imag)\n",
    "    \n",
    "    return result\n",
    "\n",
    "# 테스트\n",
    "poly1_coef = np.array([1, 2, 3, 4])\n",
    "poly2_coef = np.array([5, 6, 7, 8])\n",
    "result = componentwise_multiply_single_polynomial(poly1_coef, poly2_coef)\n",
    "\n",
    "print(\"실수 부분:\", np.round(result.real, 6))  # 기대: [5, 12, 21, 32]\n",
    "print(\"허수 부분:\", np.round(result.imag, 6))  # 기대: [0, 0, 0, 0]\n"
   ]
  },
  {
   "cell_type": "code",
   "execution_count": null,
   "metadata": {},
   "outputs": [],
   "source": []
  },
  {
   "cell_type": "code",
   "execution_count": null,
   "metadata": {},
   "outputs": [],
   "source": []
  },
  {
   "cell_type": "code",
   "execution_count": null,
   "metadata": {},
   "outputs": [],
   "source": []
  }
 ],
 "metadata": {
  "kernelspec": {
   "display_name": "Python 3",
   "language": "python",
   "name": "python3"
  },
  "language_info": {
   "codemirror_mode": {
    "name": "ipython",
    "version": 3
   },
   "file_extension": ".py",
   "mimetype": "text/x-python",
   "name": "python",
   "nbconvert_exporter": "python",
   "pygments_lexer": "ipython3",
   "version": "3.10.12"
  }
 },
 "nbformat": 4,
 "nbformat_minor": 2
}
