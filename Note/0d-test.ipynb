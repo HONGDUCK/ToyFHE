{
 "cells": [
  {
   "cell_type": "code",
   "execution_count": 32,
   "metadata": {},
   "outputs": [],
   "source": [
    "import numpy as np\n",
    "from note_include.elem.Ring  import Ring\n",
    "from note_include.elem.RLWE  import RLWE\n",
    "from note_include.elem.RLWEp import RLWEp\n",
    "from note_include.elem.RGSW  import RGSW\n",
    "from note_include.utils.gadget_decomposition import gadget_decomposition, gadget_composition, format_ring_list"
   ]
  },
  {
   "cell_type": "code",
   "execution_count": 60,
   "metadata": {},
   "outputs": [],
   "source": [
    "n   = 8\n",
    "q   = 7681\n",
    "B   = 4\n",
    "d   = int(np.ceil(np.log(q) / np.log(B)))\n",
    "std = 3.2"
   ]
  },
  {
   "cell_type": "code",
   "execution_count": 61,
   "metadata": {},
   "outputs": [
    {
     "name": "stdout",
     "output_type": "stream",
     "text": [
      "[0. 0. 0. 0. 0. 0. 0. 0. 1.]\n"
     ]
    }
   ],
   "source": [
    "xn = np.zeros(n+1)\n",
    "xn[n] = 1\n",
    "print(xn)\n",
    "xn = Ring(n, q, xn)"
   ]
  },
  {
   "cell_type": "code",
   "execution_count": 62,
   "metadata": {},
   "outputs": [],
   "source": [
    "monomial = np.zeros(n+1)\n",
    "monomial[n-2] = 1\n",
    "monomial = Ring(n, q, monomial)"
   ]
  },
  {
   "cell_type": "code",
   "execution_count": 64,
   "metadata": {},
   "outputs": [
    {
     "name": "stdout",
     "output_type": "stream",
     "text": [
      "R(n=8, q=7681, coeffs= 2.0 + 3.0x + 4.0x^2 + 5.0x^3 + 6.0x^4 + 7.0x^5 + 0.0x^6 + 7680.0x^7)\n"
     ]
    }
   ],
   "source": [
    "poly = Ring(n, q, [i for i in range(n)])\n",
    "monomial = monomial * xn\n",
    "print(poly * monomial)"
   ]
  },
  {
   "cell_type": "code",
   "execution_count": null,
   "metadata": {},
   "outputs": [],
   "source": []
  }
 ],
 "metadata": {
  "kernelspec": {
   "display_name": "Python 3",
   "language": "python",
   "name": "python3"
  },
  "language_info": {
   "codemirror_mode": {
    "name": "ipython",
    "version": 3
   },
   "file_extension": ".py",
   "mimetype": "text/x-python",
   "name": "python",
   "nbconvert_exporter": "python",
   "pygments_lexer": "ipython3",
   "version": "3.10.12"
  }
 },
 "nbformat": 4,
 "nbformat_minor": 2
}
