{
 "cells": [
  {
   "cell_type": "markdown",
   "metadata": {},
   "source": [
    "# 03 - About $\\textsf{RLWE}'$\n",
    "---\n",
    "\n",
    "From <a href='https://eprint.iacr.org/2020/086'> Bootstrapping in FHEW-like Cryptosystems </a>"
   ]
  },
  {
   "cell_type": "code",
   "execution_count": 1,
   "metadata": {},
   "outputs": [
    {
     "ename": "ModuleNotFoundError",
     "evalue": "No module named 'note_include.Ring'",
     "output_type": "error",
     "traceback": [
      "\u001b[0;31m---------------------------------------------------------------------------\u001b[0m",
      "\u001b[0;31mModuleNotFoundError\u001b[0m                       Traceback (most recent call last)",
      "Cell \u001b[0;32mIn[1], line 2\u001b[0m\n\u001b[1;32m      1\u001b[0m \u001b[38;5;28;01mimport\u001b[39;00m \u001b[38;5;21;01mnumpy\u001b[39;00m \u001b[38;5;28;01mas\u001b[39;00m \u001b[38;5;21;01mnp\u001b[39;00m\n\u001b[0;32m----> 2\u001b[0m \u001b[38;5;28;01mfrom\u001b[39;00m \u001b[38;5;21;01mnote_include\u001b[39;00m\u001b[38;5;21;01m.\u001b[39;00m\u001b[38;5;21;01mRing\u001b[39;00m  \u001b[38;5;28;01mimport\u001b[39;00m Ring\n\u001b[1;32m      3\u001b[0m \u001b[38;5;28;01mfrom\u001b[39;00m \u001b[38;5;21;01mnote_include\u001b[39;00m\u001b[38;5;21;01m.\u001b[39;00m\u001b[38;5;21;01mRLWE\u001b[39;00m  \u001b[38;5;28;01mimport\u001b[39;00m RLWE\n\u001b[1;32m      4\u001b[0m \u001b[38;5;28;01mfrom\u001b[39;00m \u001b[38;5;21;01mnote_include\u001b[39;00m\u001b[38;5;21;01m.\u001b[39;00m\u001b[38;5;21;01mRLWEp\u001b[39;00m \u001b[38;5;28;01mimport\u001b[39;00m RLWEp\n",
      "\u001b[0;31mModuleNotFoundError\u001b[0m: No module named 'note_include.Ring'"
     ]
    }
   ],
   "source": [
    "import numpy as np\n",
    "from note_include.elem.Ring  import Ring\n",
    "from note_include.elem.RLWE  import RLWE\n",
    "from note_include.elem.RLWEp import RLWEp\n",
    "from note_include.utils.gadget_decomposition import gadget_decomposition, gadget_composition, format_ring_list"
   ]
  },
  {
   "cell_type": "markdown",
   "metadata": {},
   "source": [
    "---\n",
    "#### Parameters\n"
   ]
  },
  {
   "cell_type": "code",
   "execution_count": 2,
   "metadata": {},
   "outputs": [],
   "source": [
    "n   = 16\n",
    "q   = 7681\n",
    "B   = 4\n",
    "d   = 3\n",
    "std = 3.2"
   ]
  },
  {
   "cell_type": "markdown",
   "metadata": {},
   "source": [
    "---\n",
    "Test Gadget (De)Composition"
   ]
  },
  {
   "cell_type": "code",
   "execution_count": 3,
   "metadata": {},
   "outputs": [
    {
     "name": "stdout",
     "output_type": "stream",
     "text": [
      "Plain value :  [0, 1, 2, 3, 4, 5, 6, 7, 8, 9, 10, 11, 12, 13, 14, 15]\n",
      "---- Decomposed polynomials ----\n",
      "R(n=16, q=7681, coeffs= 0 + 1x + 2x^2 + 3x^3 + 0x^4 + 1x^5 + 2x^6 + 3x^7 + 0x^8 + 1x^9 + 2x^10 + 3x^11 + 0x^12 + 1x^13 + 2x^14 + 3x^15)\n",
      "R(n=16, q=7681, coeffs= 0 + 0x + 0x^2 + 0x^3 + 1x^4 + 1x^5 + 1x^6 + 1x^7 + 2x^8 + 2x^9 + 2x^10 + 2x^11 + 3x^12 + 3x^13 + 3x^14 + 3x^15)\n",
      "R(n=16, q=7681, coeffs= 0 + 0x + 0x^2 + 0x^3 + 0x^4 + 0x^5 + 0x^6 + 0x^7 + 0x^8 + 0x^9 + 0x^10 + 0x^11 + 0x^12 + 0x^13 + 0x^14 + 0x^15)\n",
      "R(n=16, q=7681, coeffs= 0 + 0x + 0x^2 + 0x^3 + 0x^4 + 0x^5 + 0x^6 + 0x^7 + 0x^8 + 0x^9 + 0x^10 + 0x^11 + 0x^12 + 0x^13 + 0x^14 + 0x^15)\n",
      "R(n=16, q=7681, coeffs= 0 + 0x + 0x^2 + 0x^3 + 0x^4 + 0x^5 + 0x^6 + 0x^7 + 0x^8 + 0x^9 + 0x^10 + 0x^11 + 0x^12 + 0x^13 + 0x^14 + 0x^15)\n",
      "R(n=16, q=7681, coeffs= 0 + 0x + 0x^2 + 0x^3 + 0x^4 + 0x^5 + 0x^6 + 0x^7 + 0x^8 + 0x^9 + 0x^10 + 0x^11 + 0x^12 + 0x^13 + 0x^14 + 0x^15)\n",
      "R(n=16, q=7681, coeffs= 0 + 0x + 0x^2 + 0x^3 + 0x^4 + 0x^5 + 0x^6 + 0x^7 + 0x^8 + 0x^9 + 0x^10 + 0x^11 + 0x^12 + 0x^13 + 0x^14 + 0x^15)\n",
      "---- Composed polynomials ----\n",
      "R(n=16, q=7681, coeffs= 0 + 1x + 2x^2 + 3x^3 + 4x^4 + 5x^5 + 6x^6 + 7x^7 + 8x^8 + 9x^9 + 10x^10 + 11x^11 + 12x^12 + 13x^13 + 14x^14 + 15x^15)\n"
     ]
    }
   ],
   "source": [
    "coeffs = [i for i in range(n)]\n",
    "poly   = Ring(n, q, coeffs)\n",
    "decomposed_polys = gadget_decomposition(poly, B, int(np.ceil(np.log(q) / np.log(B))) )\n",
    "composed_poly    = gadget_composition(decomposed_polys, B, q)\n",
    "\n",
    "print('Plain value : ', coeffs)\n",
    "print('---- Decomposed polynomials ----')\n",
    "print(format_ring_list(decomposed_polys))\n",
    "print('---- Composed polynomials ----')\n",
    "print(composed_poly)"
   ]
  },
  {
   "cell_type": "markdown",
   "metadata": {},
   "source": [
    "---\n",
    "Encryption and Multiplication with Constant"
   ]
  },
  {
   "cell_type": "code",
   "execution_count": null,
   "metadata": {},
   "outputs": [
    {
     "name": "stdout",
     "output_type": "stream",
     "text": [
      "Multiplier       :  30\n",
      "Message          :  R(n=16, q=7681, coeffs= 0 + 1x + 2x^2 + 3x^3 + 4x^4 + 5x^5 + 6x^6 + 7x^7 + 8x^8 + 9x^9 + 10x^10 + 11x^11 + 12x^12 + 13x^13 + 14x^14 + 15x^15)\n",
      "Ideal Result     :  R(n=16, q=7681, coeffs= 0 + 30x + 60x^2 + 90x^3 + 120x^4 + 150x^5 + 180x^6 + 210x^7 + 240x^8 + 270x^9 + 300x^10 + 330x^11 + 360x^12 + 390x^13 + 420x^14 + 450x^15)\n",
      "Plaintext(RLWEp) :  R(n=16, q=7681, coeffs= 7673.0 + 33.0x + 60.0x^2 + 82.0x^3 + 117.0x^4 + 147.0x^5 + 177.0x^6 + 205.0x^7 + 235.0x^8 + 273.0x^9 + 301.0x^10 + 333.0x^11 + 342.0x^12 + 387.0x^13 + 423.0x^14 + 451.0x^15)\n",
      "Plaintext(RLWE)  :  R(n=16, q=7681, coeffs= 7651.0 + 60.0x + 60.0x^2 + 300.0x^3 + 210.0x^4 + 120.0x^5 + 210.0x^6 + 330.0x^7 + 360.0x^8 + 150.0x^9 + 390.0x^10 + 240.0x^11 + 360.0x^12 + 270.0x^13 + 600.0x^14 + 360.0x^15)\n"
     ]
    }
   ],
   "source": [
    "B = 2\n",
    "\n",
    "rlwep = RLWEp(n, q, std, B)\n",
    "rlwe  = RLWE(n, q, std)\n",
    "\n",
    "sk, pk     = rlwe.keygen()\n",
    "coeffs     = [i for i in range(n)]\n",
    "big_const  = int(30)\n",
    "poly       = Ring(n, q, coeffs)\n",
    "\n",
    "rlwep_ctxts     = rlwep.encrypt(poly, sk)\n",
    "rlwe_ctxt       = rlwe.encrypt(poly, sk)\n",
    "ctxt_rlwep_mult = rlwep.mult_constant(rlwep_ctxts, big_const)\n",
    "ctxt_rlwe_mult  = rlwe.mult_ring_cnst(rlwe_ctxt, big_const)\n",
    "\n",
    "ptxt_rlwep = rlwe.decrypt(ctxt_rlwep_mult, sk)\n",
    "ptxt_rlwe  = rlwe.decrypt(ctxt_rlwe_mult,  sk)\n",
    "\n",
    "print(\"Multiplier       : \", big_const)\n",
    "print(\"Message          : \", poly)\n",
    "print(\"Ideal Result     : \", big_const * poly)\n",
    "print(\"Plaintext(RLWEp) : \", ptxt_rlwep)\n",
    "print(\"Plaintext(RLWE)  : \", ptxt_rlwe)"
   ]
  },
  {
   "cell_type": "markdown",
   "metadata": {},
   "source": [
    "---\n",
    "Encryption and Multiplication with polynomial"
   ]
  },
  {
   "cell_type": "code",
   "execution_count": null,
   "metadata": {},
   "outputs": [
    {
     "name": "stdout",
     "output_type": "stream",
     "text": [
      "Multiplier       :  30\n",
      "Message          :  R(n=16, q=7681, coeffs= 0 + 1x + 2x^2 + 3x^3 + 4x^4 + 5x^5 + 6x^6 + 7x^7 + 8x^8 + 9x^9 + 10x^10 + 11x^11 + 12x^12 + 13x^13 + 14x^14 + 15x^15)\n",
      "Ideal Result     :  R(n=16, q=7681, coeffs= 4081.0 + 4141.0x + 4261.0x^2 + 4441.0x^3 + 4681.0x^4 + 4981.0x^5 + 5341.0x^6 + 5761.0x^7 + 6241.0x^8 + 6781.0x^9 + 7381.0x^10 + 360.0x^11 + 1080.0x^12 + 1860.0x^13 + 2700.0x^14 + 3600.0x^15)\n",
      "Plaintext(RLWEp) :  R(n=16, q=7681, coeffs= 4094.0 + 4144.0x + 4268.0x^2 + 4442.0x^3 + 4664.0x^4 + 4972.0x^5 + 5326.0x^6 + 5724.0x^7 + 6210.0x^8 + 6750.0x^9 + 7332.0x^10 + 319.0x^11 + 1053.0x^12 + 1837.0x^13 + 2671.0x^14 + 3585.0x^15)\n",
      "Plaintext(RLWE)  :  R(n=16, q=7681, coeffs= 3721.0 + 3781.0x + 3601.0x^2 + 3901.0x^3 + 4021.0x^4 + 4381.0x^5 + 5101.0x^6 + 5521.0x^7 + 6001.0x^8 + 6721.0x^9 + 7501.0x^10 + 540.0x^11 + 1140.0x^12 + 1860.0x^13 + 2700.0x^14 + 3840.0x^15)\n"
     ]
    }
   ],
   "source": [
    "B = 2\n",
    "\n",
    "rlwep = RLWEp(n, q, std, B)\n",
    "rlwe  = RLWE(n, q, std)\n",
    "\n",
    "sk, pk          = rlwe.keygen()\n",
    "coeffs          = [i for i in range(n)]\n",
    "big_coeffs      = [30 for _ in range(n)]\n",
    "poly            = Ring(n, q, coeffs)\n",
    "poly_multiplier = Ring(n, q, big_coeffs)\n",
    "\n",
    "rlwep_ctxts     = rlwep.encrypt(poly, sk)\n",
    "rlwe_ctxt       = rlwe.encrypt(poly, sk)\n",
    "ctxt_rlwep_mult = rlwep.mult_poly(rlwep_ctxts, poly_multiplier)\n",
    "ctxt_rlwe_mult  = rlwe.mult_ring_ptxt(rlwe_ctxt, poly_multiplier)\n",
    "\n",
    "ptxt_rlwep = rlwe.decrypt(ctxt_rlwep_mult, sk)\n",
    "ptxt_rlwe  = rlwe.decrypt(ctxt_rlwe_mult,  sk)\n",
    "\n",
    "print(\"Multiplier       : \", big_const)\n",
    "print(\"Message          : \", poly)\n",
    "print(\"Ideal Result     : \", poly * poly_multiplier)\n",
    "print(\"Plaintext(RLWEp) : \", ptxt_rlwep)\n",
    "print(\"Plaintext(RLWE)  : \", ptxt_rlwe)"
   ]
  },
  {
   "cell_type": "markdown",
   "metadata": {},
   "source": []
  }
 ],
 "metadata": {
  "kernelspec": {
   "display_name": "Python 3",
   "language": "python",
   "name": "python3"
  },
  "language_info": {
   "codemirror_mode": {
    "name": "ipython",
    "version": 3
   },
   "file_extension": ".py",
   "mimetype": "text/x-python",
   "name": "python",
   "nbconvert_exporter": "python",
   "pygments_lexer": "ipython3",
   "version": "3.10.12"
  }
 },
 "nbformat": 4,
 "nbformat_minor": 2
}
