{
 "cells": [
  {
   "cell_type": "markdown",
   "metadata": {},
   "source": [
    "# DM-like blind rotation\n",
    "\n",
    "For details, read follow papers\n",
    "\n",
    "* <a href=\"https://eprint.iacr.org/2014/816\"> FHEW: Bootstrapping Homomorphic Encryption in less than a second </a>\n",
    "* <a href=\"https://eprint.iacr.org/2020/086\"> Bootstrapping in FHEW-like Cryptosystems </a>\n",
    "\n",
    "---"
   ]
  },
  {
   "cell_type": "markdown",
   "metadata": {},
   "source": []
  },
  {
   "cell_type": "markdown",
   "metadata": {},
   "source": []
  },
  {
   "cell_type": "markdown",
   "metadata": {},
   "source": []
  },
  {
   "cell_type": "markdown",
   "metadata": {},
   "source": []
  }
 ],
 "metadata": {
  "language_info": {
   "name": "python"
  }
 },
 "nbformat": 4,
 "nbformat_minor": 2
}
