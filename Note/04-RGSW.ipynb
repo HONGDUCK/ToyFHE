{
 "cells": [
  {
   "cell_type": "markdown",
   "metadata": {},
   "source": [
    "# 04 - About $\\textsf{RGSW}$\n",
    "---\n",
    "\n",
    "From <a href='https://eprint.iacr.org/2020/086'> Bootstrapping in FHEW-like Cryptosystems </a>"
   ]
  },
  {
   "cell_type": "code",
   "execution_count": 1,
   "metadata": {},
   "outputs": [],
   "source": [
    "import numpy as np\n",
    "from note_include.Ring  import Ring\n",
    "from note_include.RLWE  import RLWE\n",
    "from note_include.RLWEp import RLWEp\n",
    "from note_include.RGSW  import RGSW\n",
    "from note_include.utils.gadget_decomposition import gadget_decomposition, gadget_composition, format_ring_list"
   ]
  },
  {
   "cell_type": "markdown",
   "metadata": {},
   "source": [
    "---\n",
    "Parameters"
   ]
  },
  {
   "cell_type": "code",
   "execution_count": 141,
   "metadata": {},
   "outputs": [],
   "source": [
    "n   = 16\n",
    "q   = 7681\n",
    "B   = 4\n",
    "std = 3.2"
   ]
  },
  {
   "cell_type": "markdown",
   "metadata": {},
   "source": [
    "---\n",
    "Encryption and Homomorphic mulplication ($\\textsf{RLWE} \\times \\textsf{RGSW}$)"
   ]
  },
  {
   "cell_type": "code",
   "execution_count": 150,
   "metadata": {},
   "outputs": [
    {
     "name": "stdout",
     "output_type": "stream",
     "text": [
      "Multiplier              :  R(n=16, q=7681, coeffs= 30 + 30x + 30x^2 + 30x^3 + 30x^4 + 30x^5 + 30x^6 + 30x^7 + 30x^8 + 30x^9 + 30x^10 + 30x^11 + 30x^12 + 30x^13 + 30x^14 + 30x^15)\n",
      "Message                 :  R(n=16, q=7681, coeffs= 0 + 1x + 2x^2 + 3x^3 + 4x^4 + 5x^5 + 6x^6 + 7x^7 + 8x^8 + 9x^9 + 10x^10 + 11x^11 + 12x^12 + 13x^13 + 14x^14 + 15x^15)\n",
      "Ideal Result            :  R(n=16, q=7681, coeffs= 4081.0 + 4141.0x + 4261.0x^2 + 4441.0x^3 + 4681.0x^4 + 4981.0x^5 + 5341.0x^6 + 5761.0x^7 + 6241.0x^8 + 6781.0x^9 + 7381.0x^10 + 360.0x^11 + 1080.0x^12 + 1860.0x^13 + 2700.0x^14 + 3600.0x^15)\n",
      "Plaintext(RLWE x RGSW)  :  R(n=16, q=7681, coeffs= 3484.0 + 3637.0x + 3989.0x^2 + 3947.0x^3 + 4264.0x^4 + 4418.0x^5 + 4823.0x^6 + 5418.0x^7 + 5820.0x^8 + 6466.0x^9 + 7088.0x^10 + 451.0x^11 + 1365.0x^12 + 2179.0x^13 + 3014.0x^14 + 3855.0x^15)\n"
     ]
    }
   ],
   "source": [
    "rlwe  = RLWE (n, q, std)\n",
    "rlwep = RLWEp(n, q, std, B)\n",
    "rgsw  = RGSW (n, q, std, B)\n",
    "\n",
    "sk, pk          = rlwe.keygen()\n",
    "coeffs          = [i for i in range(n)]\n",
    "big_coeffs      = [30 for _ in range(n)]\n",
    "poly            = Ring(n, q, coeffs)\n",
    "poly_multiplier = Ring(n, q, big_coeffs)\n",
    "\n",
    "rgsw_ctxt = rgsw.encrypt(poly_multiplier, sk)\n",
    "rlwe_ctxt = rlwe.encrypt(poly, sk)\n",
    "ctxt_mult = rgsw.mult_rlwe(rlwe_ctxt, rgsw_ctxt)\n",
    "\n",
    "ptxt      = rlwe.decrypt(ctxt_mult, sk)\n",
    "\n",
    "print(\"Multiplier              : \", poly_multiplier)\n",
    "print(\"Message                 : \", poly)\n",
    "print(\"Ideal Result            : \", poly * poly_multiplier)\n",
    "# print(\"Plaintext(RLWEp)        : \", ptxt_rlwep)\n",
    "print(\"Plaintext(RLWE x RGSW)  : \", ptxt)"
   ]
  },
  {
   "cell_type": "markdown",
   "metadata": {},
   "source": []
  }
 ],
 "metadata": {
  "kernelspec": {
   "display_name": "Python 3",
   "language": "python",
   "name": "python3"
  },
  "language_info": {
   "codemirror_mode": {
    "name": "ipython",
    "version": 3
   },
   "file_extension": ".py",
   "mimetype": "text/x-python",
   "name": "python",
   "nbconvert_exporter": "python",
   "pygments_lexer": "ipython3",
   "version": "3.10.12"
  }
 },
 "nbformat": 4,
 "nbformat_minor": 2
}
