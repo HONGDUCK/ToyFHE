{
 "cells": [
  {
   "cell_type": "markdown",
   "metadata": {},
   "source": [
    "### Import\n",
    "\n",
    "---"
   ]
  },
  {
   "cell_type": "code",
   "execution_count": 1,
   "metadata": {},
   "outputs": [],
   "source": [
    "import numpy as np\n",
    "from note_include.elem.LWE    import LWE\n",
    "from note_include.utils.types import LWEctxt\n",
    "\n",
    "np.set_printoptions(threshold=np.inf, linewidth=np.inf)"
   ]
  },
  {
   "cell_type": "markdown",
   "metadata": {},
   "source": [
    "---\n",
    "\n",
    "# $\\textsf{Key Switch and Mod Switch}$\n",
    "\n",
    "* <a href=\"https://eprint.iacr.org/2014/816\"> FHEW: Bootstrapping Homomorphic Encryption in less than a second </a>\n",
    "\n",
    "* <a href=\"https://eprint.iacr.org/2020/086\"> Bootstrapping in FHEW-like Cryptosystems </a>\n",
    "\n",
    "---\n",
    "\n",
    "FHEW 의 꽃인 blind rotation 을 서술하기 앞서 함께 사용되는 부가적인 알고리즘인 key switch 와 modulus switch 에 대해서 알아보자.\n",
    "\n",
    "우선 key switch 부터 시작하자.\n",
    "\n",
    "---\n",
    "\n",
    "## 1. Key switch\n",
    "\n",
    "Key switch 는 FHEW 외에도 다양한 동형암호 스킴에서 자주 사용되는 테크닉이다. \n",
    "\n",
    "동형연산을 통해 암호화 된 상태에서 비밀키를 바꾸어주는 테크닉이며 동형 연산으로 수행하기 때문에 노이즈를 발생시킨다.\n",
    "\n",
    "시작하기 앞서 다음을 생각해보자. LWE 암호를 다음과 같이 표현할 수 있다.\n",
    "\n",
    "$$\n",
    "    \\textsf{LWE}_{\\vec{s}}(m) = \\langle \\vec{a}, \\vec{s} \\rangle + m + e.\n",
    "$$\n",
    "\n",
    "이 상황에서 우리는 $\\vec{s}$ 로 암호화 되어있는 암호문을 메세지는 유지한 채로 $\\vec{s}'$ 으로 암호화 하고 싶은 것 이다.\n",
    "\n",
    "$$\n",
    "    \\textsf{LWE}_{\\vec{s'}}(m) = \\langle \\vec{a}', \\vec{s}' \\rangle + m + e.\n",
    "$$\n",
    "\n",
    "$\\textsf{LWE}_{\\vec{s}}(m)$ 을 $\\textsf{LWE}_{\\vec{s'}}(m)$ 으로 바꾸어주기 위해서 우리는 무엇을 수행해야 하는지 고민해보자. 다음과 같은 연산을 수행하면 된다는 것을 금방 알 수 있다.\n",
    "\n",
    "\\begin{align*}\n",
    "    \\textsf{LWE}_{\\vec{s}}(m) + \\textsf{LWE}_{\\vec{s'}}(-\\langle \\vec{a}, \\vec{s} \\rangle)\n",
    "    &=  \\langle \\vec{a}, \\vec{s} \\rangle + m + e_0 + \\langle \\vec{a}', \\vec{s}' \\rangle -\\langle \\vec{a}, \\vec{s} \\rangle + e_1 \\\\\n",
    "    &= \\langle \\vec{a}', \\vec{s}' \\rangle + m + e_0 + e_1.\n",
    "\\end{align*}\n",
    "\n",
    "여기서 key switching 에 사용되는 암호문 $\\textsf{LWE}_{\\vec{s'}}(-\\langle \\vec{a}, \\vec{s} \\rangle)$ 을 key switching key 라고 칭한다.\n",
    "\n",
    "그러나 이 방식 같은 경우에는 문제점이 있다. $\\textsf{LWE}_{\\vec{s'}}(-\\langle \\vec{a}, \\vec{s} \\rangle)$ 을 만들어야 하는데 $\\vec{a}$ 의 경우에는 정해져 있는 값이 아니라 연산을 수행함에 따라 계속해서 바뀌기 때문이다.\n",
    "\n",
    "무식하게 모든 $\\langle \\vec{a}, \\vec{s} \\rangle$ 에 대해서 전부 만들어둔다면 암호문의 수가 대략 $\\mathcal{O}(q^n \\times n)$ 가 되어 엄청 커지게 될 것이다.\n",
    "\n",
    "이를 피하기 위해 일반적으로는 모든 $a \\in \\mathbb{Z}_q$ 를 만들 수 있도록 한다.\n",
    "\n",
    "앞서 배웠던 gadget decomposition 과 매우 유사하다. 예를 들어 $\\mathbb{Z}_q$ 에서 정의되는 임의의 값은 gadget decomposition 을 통해 다음과 같이 표현할 수 있다.\n",
    "\n",
    "\\begin{align*}\n",
    "    a = \\sum_{i=0}^{d-1} v_i B^i, \\text{ where } v_i \\in \\mathbb{Z}_B \\text{ and } d = \\lceil \\log_Bq \\rceil.\n",
    "\\end{align*}\n",
    "\n",
    "여기서 $(v_i) = \\textsf{gadget\\_decomposition\\_int}(a, B)$ 이다.\n",
    "\n",
    "즉, 임의의 $a$ 를 $\\sum_{i=0}^{d-1} \\text{LWE}_{\\vec{s}'}(v_i B^i)$ 형식으로 만들 수 있다는 것이다.\n",
    "\n",
    "결론적으로 key switching 에 사용되는 key switching key 는 다음과 같이 정의할 수 있다.\n",
    "\n",
    ">$\\textbf{Definition : Key siwtching key}$\n",
    ">\n",
    ">어떠한 base value $B_\\text{ks}$ 와 두 비밀키 $\\vec{s}, \\vec{s}'$ 이 있을 때, key switching key $\\textsf{ksk}$ 는 다음과 같이 정의할 수 있다.\n",
    ">\n",
    ">\\begin{align*}\n",
    ">    \\textsf{ksk}_{i, j, v} = \\left\\{ \\text{LWE}_{\\vec{s'}} \\left( v B_\\text{ks}^j s_i \\right) | i \\in [0, n), j \\in [0, d_\\text{ks}), v \\in [0, B_\\text{ks})  \\right \\} \n",
    ">\\end{align*}\n",
    ">\n",
    ">여기서 $d_\\text{ks} = \\lceil \\log_{B_\\text{ks}}q \\rceil$ 이다.\n",
    "\n",
    "이를 통해 기존의 $\\mathcal{O}(q^n \\times n)$ 을 $\\mathcal{O}(d_\\text{ks} \\times B_\\text{ks} \\times n)$ 으로 줄일 수 있다.\n",
    "\n",
    "코드를 통해 확인해보자.\n"
   ]
  },
  {
   "cell_type": "code",
   "execution_count": 2,
   "metadata": {},
   "outputs": [],
   "source": [
    "def KSKgen(lwe_sk:list[int], lwe_sk2:list[int], B:int, d:int, lweCC:LWE):\n",
    "    q   = lweCC.q\n",
    "    ksk = []\n",
    "    for _s in lwe_sk2: # 버리는 비밀키\n",
    "        matrix = []\n",
    "        for v in range(B):\n",
    "            row = []\n",
    "            for j in range(d):\n",
    "                row.append(lweCC.encrypt((v * (B**j) * _s) % q, lwe_sk)) # 새로 얻는 비밀키\n",
    "            matrix.append(row)\n",
    "        ksk.append(matrix)    \n",
    "    return ksk"
   ]
  },
  {
   "cell_type": "markdown",
   "metadata": {},
   "source": [
    "\n",
    "---\n",
    "\n",
    "이어서 key switching 은 다음과 같이 정의할 수 있다.\n",
    "\n",
    ">$\\textbf{Definition : Key Switch}$\n",
    ">\n",
    ">비밀키 $\\vec{s}$ 로 암호화 되어있는 LWE 암호문 $(\\vec{a}, b) \\in \\mathbb{Z}_q^n$ 이 있다고 하자. $\\textsf{ksk}_{i, j, v}$ 를 key switching key 라 할 때 key switching 은 다음과 같이 정의할 수 있다:\n",
    ">\n",
    ">\\begin{align*}\n",
    ">    \\textsf{KeySwitch}((\\vec{a}, b), \\textsf{ksk}) = (0, b) - \\sum_{a_i} \\textsf{ksk}_{i, j, a_{ij}}, \\text{ where } a_{ij} \\in \\mathbb{Z}_{B_\\text{ks}}.\n",
    ">\\end{align*}\n",
    "\n",
    "코드를 통해 확인해보자."
   ]
  },
  {
   "cell_type": "code",
   "execution_count": 3,
   "metadata": {},
   "outputs": [],
   "source": [
    "def KeySwitch(ct:LWEctxt, ksk:list[list[LWEctxt]], B:int, d:int, lweCC:LWE) -> LWEctxt:\n",
    "    a, b = ct\n",
    "    tmp_ct = (np.zeros(lweCC.n), b)\n",
    "    for i, _a in enumerate(a):\n",
    "        tmpa = int(_a)\n",
    "        for j in range(d):\n",
    "            v  = tmpa % B\n",
    "            tmpa = tmpa // B\n",
    "\n",
    "            tmp_ct = lweCC.sub(tmp_ct, ksk[i][v][j])\n",
    "    \n",
    "    return tmp_ct"
   ]
  },
  {
   "cell_type": "code",
   "execution_count": 4,
   "metadata": {},
   "outputs": [
    {
     "name": "stdout",
     "output_type": "stream",
     "text": [
      "Message                     :  400\n",
      "Decrypt with old secret key :  1498.0\n",
      "Decrypt with new secret key :  382.0\n"
     ]
    }
   ],
   "source": [
    "n   = 16\n",
    "q   = 2048\n",
    "B   = 128\n",
    "d   = int(np.ceil(np.log(q) / np.log(B)))\n",
    "std = 1.2\n",
    "\n",
    "lwe = LWE(n, q, s_std=\"Gaussian\", e_std=std)\n",
    "m     = 400\n",
    "s1  = lwe.keygen() # 버릴 비밀키\n",
    "s2  = lwe.keygen() # 새로 얻는 비밀키\n",
    "ksk = KSKgen(s2, s1, B, d, lwe)\n",
    "\n",
    "ct_s1 = lwe.encrypt(m, s1)\n",
    "ct_s2 = KeySwitch(ct_s1, ksk, B, d, lwe)\n",
    "\n",
    "pt_s1 = lwe.decrypt(ct_s2, s1)\n",
    "pt_s2 = lwe.decrypt(ct_s2, s2)\n",
    "\n",
    "print(\"Message                     : \", m)\n",
    "print(\"Decrypt with old secret key : \", pt_s1)\n",
    "print(\"Decrypt with new secret key : \", pt_s2)"
   ]
  },
  {
   "cell_type": "markdown",
   "metadata": {},
   "source": [
    "\n",
    "---\n",
    "\n",
    "약간의 오차를 보이지만 정상적으로 작동하는 모습을 확인할 수 있다. \n",
    "\n",
    "이전 비밀키를 사용할 경우 정상적인 복호화가 불가능한 것 또한 확인할 수 있다.\n",
    "\n",
    "이번에는 modulus switching 에 대해서 알아보도록 하자.\n",
    "\n",
    "## 2. Modulus switch\n",
    "\n",
    "FHEW 는 재밌게도 LWE 암호문과 RLWE 암호문을 전부 사용한다. 즉, 파라미터를 n, q, N, Q 로 사용한다는 것이다.\n",
    "\n",
    "후에 배울 blind rotation 을 큰 관점에서 보게되면 다음과 같은 흐름을 갖는다.\n",
    "\n",
    "$$\n",
    "\\text{LWE} \\longrightarrow \\text{RLWE} \\longrightarrow \\text{LWE}.\n",
    "$$\n",
    "\n",
    "즉, 암호문을 LWE 에서 RLWE 로 바꾸고, 그 다음 다시 LWE 로 되돌리는 과정을 거치게 된다.\n",
    "\n",
    "이 때, LWE 와 RLWE 의 modulus $q,Q$ 는 서로 다르므로 이를 switch 하는 동작을 필요로 하게 된다.\n",
    "\n",
    "이에 따라 modulus switch 를 정의하여 사용하는 것이며 이는 다음과 같이 정의할 수 있다:\n",
    "\n",
    ">$\\textbf{Definition : Modulus Switch}$\n",
    ">\n",
    ">LWE 암호문 $(\\vec{a}, b) \\in \\mathbb{Z}_Q^{n+1}$ 가 있을 때 $\\textsf{ModSwitch} : \\mathbb{Z}_Q^{n+1} \\to \\mathbb{Z}_q^{n+1}$ 는 다음과 같이 정의할 수 있다.\n",
    ">\n",
    ">\\begin{align*}\n",
    ">    \\textsf{ModSwitch}((\\vec{a}, b)) = ([a_0]_{Q:q}, [a_1]_{Q:q}, \\dots, [a_{n-1}]_{Q:q}, [b]_{Q:q}).\n",
    ">\\end{align*}\n",
    ">\n",
    ">여기서 $([x]_{Q:q}) = \\lfloor q/Q \\cdot x \\rceil \\in \\mathbb{Z}_q$ 이다.\n",
    "\n",
    "코드를 통해 확인해보자."
   ]
  },
  {
   "cell_type": "code",
   "execution_count": 5,
   "metadata": {},
   "outputs": [],
   "source": [
    "def ModSwitch(ctxt:LWEctxt, Q:int, q:int) -> LWEctxt:\n",
    "    a, b = ctxt\n",
    "    mod_switched_a = [int(np.round((q/Q) * _a)) for _a in a]\n",
    "    mod_switched_b = int(np.round((q/Q) * b))\n",
    "\n",
    "    return (mod_switched_a, mod_switched_b)"
   ]
  },
  {
   "cell_type": "code",
   "execution_count": 6,
   "metadata": {},
   "outputs": [
    {
     "name": "stdout",
     "output_type": "stream",
     "text": [
      "Ideal Result :  50\n",
      "Plaintext    :  438\n"
     ]
    }
   ],
   "source": [
    "n   = 32\n",
    "q   = 512\n",
    "Q   = 2048\n",
    "std = 3.2\n",
    "\n",
    "lwe_q = LWE(n, q, s_std=\"Gaussian\", e_std=std)\n",
    "lwe_Q = LWE(n, Q, s_std=\"Gaussian\", e_std=std)\n",
    "\n",
    "m   = 200\n",
    "s   = lwe_q.keygen() # 버릴 비밀키\n",
    "ct  = lwe_Q.encrypt(m, s)\n",
    "\n",
    "mod_switched_ct = ModSwitch(ct, Q, q)\n",
    "ptxt            = lwe_q.decrypt(mod_switched_ct, s)\n",
    "\n",
    "print(\"Ideal Result : \", int(q/Q * m))\n",
    "print(\"Plaintext    : \", ptxt)"
   ]
  },
  {
   "cell_type": "markdown",
   "metadata": {},
   "source": [
    "매우 큰 노이즈를 보이는 것을 알 수 있다. 실제로 FHEW 에서 가장 많인 노이즈를 발생시키는 연산이다.\n",
    "\n",
    "---\n",
    "\n",
    "## Summary\n",
    "\n",
    "이번에는 FHEW 에서 사용하는 부수적인 알고리즘인 key switch 와 modulus switch 에 대해서 알아보았다.\n",
    "\n",
    "Key switching 과 달리 modulus switching 은 매우 큰 노이즈를 발생시키는 것을 알 수 있었으며, 실제로 FHEW 에서 수행하는 연산들 중 가장 많인 노이즈를 발생시키는 연산이다.\n",
    "\n",
    "---\n",
    "\n",
    "## Code implementation\n",
    "\n",
    "`note_include/FHEW.py` 를 확인하면 위에서 정의한 연산들이 있는 Key siwtch and Modulus switch 의 구현을 확인할 수 있다."
   ]
  }
 ],
 "metadata": {
  "kernelspec": {
   "display_name": "Python 3",
   "language": "python",
   "name": "python3"
  },
  "language_info": {
   "codemirror_mode": {
    "name": "ipython",
    "version": 3
   },
   "file_extension": ".py",
   "mimetype": "text/x-python",
   "name": "python",
   "nbconvert_exporter": "python",
   "pygments_lexer": "ipython3",
   "version": "3.10.12"
  }
 },
 "nbformat": 4,
 "nbformat_minor": 2
}
