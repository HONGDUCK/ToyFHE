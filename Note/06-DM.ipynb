{
 "cells": [
  {
   "cell_type": "markdown",
   "metadata": {},
   "source": [
    "# DM-like blind rotation\n",
    "\n",
    "For details, read follow papers\n",
    "\n",
    "* <a href=\"https://eprint.iacr.org/2014/816\"> FHEW: Bootstrapping Homomorphic Encryption in less than a second </a>\n",
    "* <a href=\"https://eprint.iacr.org/2020/086\"> Bootstrapping in FHEW-like Cryptosystems </a>\n",
    "\n",
    "---"
   ]
  },
  {
   "cell_type": "code",
   "execution_count": 1,
   "metadata": {},
   "outputs": [],
   "source": [
    "import numpy as np\n",
    "from note_include.elem.Ring import Ring\n",
    "from note_include.FHEW      import FHEW\n",
    "from note_include.elem.RLWE import RLWE\n",
    "\n",
    "np.set_printoptions(threshold=np.inf, linewidth=np.inf)"
   ]
  },
  {
   "cell_type": "markdown",
   "metadata": {},
   "source": [
    "---"
   ]
  },
  {
   "cell_type": "code",
   "execution_count": 2,
   "metadata": {},
   "outputs": [],
   "source": [
    "q    = 128\n",
    "n    = 16\n",
    "Q    = 128 # For N = 1024\n",
    "N    = 64  \n",
    "B    = 256\n",
    "B_ks = 256\n",
    "std  = 0"
   ]
  },
  {
   "cell_type": "markdown",
   "metadata": {},
   "source": [
    "We should define message in binary domain, $m \\in \\{0,1\\}$.   \n",
    "We can define encryption method as follows:\n",
    "\n",
    ">$\\textbf{Definition}$\n",
    ">\n",
    ">Let $m \\in \\{0,1\\}$ is a message, $\\vec{a}$ is a vector of random number $a_i \\in \\Z_q$, $\\vec{s}$ is a secret values, and $e$ is a small noise value.   \n",
    ">Then we can define encryption method as follows:\n",
    ">\n",
    ">\\begin{align*}\n",
    ">    \\textsf{FHEW.enc}(m; \\vec{s}) = (\\vec{a}, b), \\text{ where } b = \\lang \\vec{a}, \\vec{s} \\rang + m \\cdot q/4 + e.\n",
    ">\\end{align*}\n",
    ">\n",
    ">The decryption method can be easily defined as follows:\n",
    ">\n",
    ">\\begin{align*}\n",
    ">    \\textsf{FHEW.dec}((a,b); \\vec{s}) = b - \\lang \\vec{a}, \\vec{s} \\rang = m \\cdot q/4 + e \\approx m \\cdot q/4.\n",
    ">\\end{align*}"
   ]
  },
  {
   "cell_type": "code",
   "execution_count": 3,
   "metadata": {},
   "outputs": [],
   "source": [
    "fhew = FHEW(n, q, N, Q, std, B, B_ks)\n",
    "rlwe = RLWE(N, Q, std)\n",
    "s, s_ring = fhew.dm_keygen()\n"
   ]
  },
  {
   "cell_type": "code",
   "execution_count": 4,
   "metadata": {},
   "outputs": [],
   "source": [
    "# s_count = 0\n",
    "# num = 20\n",
    "# for i in range(num):\n",
    "#     ct0 = fhew.encrypt(0, s)\n",
    "#     ct1 = fhew.encrypt(1, s)\n",
    "#     ct_and = fhew.evalBin(ct0, ct1, \"AND\")\n",
    "\n",
    "#     ptxt_1and0 = fhew.decrypt(ct_and, s)\n",
    "#     if(ptxt_1and0 == 0):\n",
    "#         s_count += 1\n",
    "\n",
    "# print(\"Success Count : \", s_count, \"/\", num)\n",
    "#     # print(ptxt_1and0, \", ---It should be 0 ( 1 AND 0 = 0 ) ---\")"
   ]
  },
  {
   "cell_type": "code",
   "execution_count": 5,
   "metadata": {},
   "outputs": [],
   "source": [
    "def nega_ACC_init(b, q, N):\n",
    "    acc = np.zeros(N)\n",
    "    for i in range(N//2):\n",
    "        acc[i]             =  (b-(i*4)) % q\n",
    "        acc[i + (N//2)]    = -(b-(i*4)) % q\n",
    "    acc = Ring(N, q, acc)\n",
    "    return (Ring(N, q, np.zeros(N)), acc)"
   ]
  },
  {
   "cell_type": "code",
   "execution_count": 47,
   "metadata": {},
   "outputs": [],
   "source": []
  },
  {
   "cell_type": "code",
   "execution_count": null,
   "metadata": {},
   "outputs": [
    {
     "name": "stdout",
     "output_type": "stream",
     "text": [
      "32.0\n",
      "Ideal extraction :  44.0\n",
      "[  6  95  73  38 115 105  11 112 117  84  53  22  51  98 115 117]\n",
      "R(n=64, q=128, coeffs= 84 + 80x + 76x^2 + 72x^3 + 68x^4 + 64x^5 + 60x^6 + 56x^7 + 52x^8 + 48x^9 + 44x^10 + 40x^11 + 36x^12 + 32x^13 + 28x^14 + 24x^15 + 20x^16 + 16x^17 + 12x^18 + 8x^19 + 4x^20 + 0x^21 + 124x^22 + 120x^23 + 116x^24 + 112x^25 + 108x^26 + 104x^27 + 100x^28 + 96x^29 + 92x^30 + 88x^31 + 44x^32 + 48x^33 + 52x^34 + 56x^35 + 60x^36 + 64x^37 + 68x^38 + 72x^39 + 76x^40 + 80x^41 + 84x^42 + 88x^43 + 92x^44 + 96x^45 + 100x^46 + 104x^47 + 108x^48 + 112x^49 + 116x^50 + 120x^51 + 124x^52 + 0x^53 + 4x^54 + 8x^55 + 12x^56 + 16x^57 + 20x^58 + 24x^59 + 28x^60 + 32x^61 + 36x^62 + 40x^63)\n",
      "R(n=64, q=128, coeffs= 116 + 112x + 108x^2 + 104x^3 + 100x^4 + 96x^5 + 92x^6 + 88x^7 + 84x^8 + 80x^9 + 76x^10 + 72x^11 + 68x^12 + 64x^13 + 60x^14 + 56x^15 + 52x^16 + 48x^17 + 44x^18 + 40x^19 + 36x^20 + 32x^21 + 28x^22 + 24x^23 + 20x^24 + 16x^25 + 12x^26 + 8x^27 + 4x^28 + 0x^29 + 124x^30 + 120x^31 + 116x^32 + 112x^33 + 108x^34 + 104x^35 + 100x^36 + 96x^37 + 92x^38 + 88x^39 + 44x^40 + 48x^41 + 52x^42 + 56x^43 + 60x^44 + 64x^45 + 68x^46 + 72x^47 + 76x^48 + 80x^49 + 84x^50 + 88x^51 + 92x^52 + 96x^53 + 100x^54 + 104x^55 + 108x^56 + 112x^57 + 116x^58 + 120x^59 + 124x^60 + 0x^61 + 4x^62 + 8x^63)\n",
      "R(n=64, q=128, coeffs= 24 + 20x + 16x^2 + 12x^3 + 8x^4 + 4x^5 + 0x^6 + 124x^7 + 120x^8 + 116x^9 + 112x^10 + 108x^11 + 104x^12 + 100x^13 + 96x^14 + 92x^15 + 88x^16 + 84x^17 + 80x^18 + 76x^19 + 72x^20 + 68x^21 + 64x^22 + 60x^23 + 56x^24 + 52x^25 + 48x^26 + 44x^27 + 40x^28 + 36x^29 + 32x^30 + 28x^31 + 24x^32 + 20x^33 + 16x^34 + 12x^35 + 8x^36 + 4x^37 + 0x^38 + 124x^39 + 120x^40 + 116x^41 + 112x^42 + 108x^43 + 104x^44 + 100x^45 + 96x^46 + 92x^47 + 88x^48 + 44x^49 + 48x^50 + 52x^51 + 56x^52 + 60x^53 + 64x^54 + 68x^55 + 72x^56 + 76x^57 + 80x^58 + 84x^59 + 88x^60 + 92x^61 + 96x^62 + 100x^63)\n",
      "R(n=64, q=128, coeffs= 24 + 28x + 32x^2 + 36x^3 + 40x^4 + 44x^5 + 48x^6 + 52x^7 + 56x^8 + 60x^9 + 64x^10 + 68x^11 + 72x^12 + 76x^13 + 80x^14 + 84x^15 + 88x^16 + 92x^17 + 96x^18 + 100x^19 + 104x^20 + 108x^21 + 112x^22 + 116x^23 + 120x^24 + 124x^25 + 0x^26 + 4x^27 + 8x^28 + 12x^29 + 16x^30 + 20x^31 + 24x^32 + 28x^33 + 32x^34 + 36x^35 + 40x^36 + 84x^37 + 80x^38 + 76x^39 + 72x^40 + 68x^41 + 64x^42 + 60x^43 + 56x^44 + 52x^45 + 48x^46 + 44x^47 + 40x^48 + 36x^49 + 32x^50 + 28x^51 + 24x^52 + 20x^53 + 16x^54 + 12x^55 + 8x^56 + 4x^57 + 0x^58 + 124x^59 + 120x^60 + 116x^61 + 112x^62 + 108x^63)\n",
      "R(n=64, q=128, coeffs= 104 + 108x + 112x^2 + 116x^3 + 120x^4 + 124x^5 + 0x^6 + 4x^7 + 8x^8 + 12x^9 + 16x^10 + 20x^11 + 24x^12 + 28x^13 + 32x^14 + 36x^15 + 40x^16 + 44x^17 + 48x^18 + 52x^19 + 56x^20 + 60x^21 + 64x^22 + 68x^23 + 72x^24 + 76x^25 + 80x^26 + 84x^27 + 88x^28 + 92x^29 + 96x^30 + 100x^31 + 104x^32 + 108x^33 + 112x^34 + 116x^35 + 120x^36 + 124x^37 + 0x^38 + 4x^39 + 8x^40 + 12x^41 + 16x^42 + 20x^43 + 24x^44 + 28x^45 + 32x^46 + 36x^47 + 40x^48 + 84x^49 + 80x^50 + 76x^51 + 72x^52 + 68x^53 + 64x^54 + 60x^55 + 56x^56 + 52x^57 + 48x^58 + 44x^59 + 40x^60 + 36x^61 + 32x^62 + 28x^63)\n",
      "R(n=64, q=128, coeffs= 60 + 56x + 52x^2 + 48x^3 + 44x^4 + 40x^5 + 36x^6 + 32x^7 + 28x^8 + 24x^9 + 20x^10 + 16x^11 + 12x^12 + 8x^13 + 4x^14 + 0x^15 + 124x^16 + 120x^17 + 116x^18 + 112x^19 + 108x^20 + 104x^21 + 100x^22 + 96x^23 + 92x^24 + 88x^25 + 44x^26 + 48x^27 + 52x^28 + 56x^29 + 60x^30 + 64x^31 + 68x^32 + 72x^33 + 76x^34 + 80x^35 + 84x^36 + 88x^37 + 92x^38 + 96x^39 + 100x^40 + 104x^41 + 108x^42 + 112x^43 + 116x^44 + 120x^45 + 124x^46 + 0x^47 + 4x^48 + 8x^49 + 12x^50 + 16x^51 + 20x^52 + 24x^53 + 28x^54 + 32x^55 + 36x^56 + 40x^57 + 44x^58 + 48x^59 + 52x^60 + 56x^61 + 60x^62 + 64x^63)\n",
      "R(n=64, q=128, coeffs= 56 + 52x + 48x^2 + 44x^3 + 40x^4 + 36x^5 + 32x^6 + 28x^7 + 24x^8 + 20x^9 + 16x^10 + 12x^11 + 8x^12 + 4x^13 + 0x^14 + 124x^15 + 120x^16 + 116x^17 + 112x^18 + 108x^19 + 104x^20 + 100x^21 + 96x^22 + 92x^23 + 88x^24 + 84x^25 + 80x^26 + 76x^27 + 72x^28 + 68x^29 + 64x^30 + 60x^31 + 56x^32 + 52x^33 + 48x^34 + 44x^35 + 40x^36 + 36x^37 + 32x^38 + 28x^39 + 24x^40 + 20x^41 + 16x^42 + 12x^43 + 8x^44 + 4x^45 + 0x^46 + 124x^47 + 120x^48 + 116x^49 + 112x^50 + 108x^51 + 104x^52 + 100x^53 + 96x^54 + 92x^55 + 88x^56 + 44x^57 + 48x^58 + 52x^59 + 56x^60 + 60x^61 + 64x^62 + 68x^63)\n",
      "R(n=64, q=128, coeffs= 56 + 52x + 48x^2 + 44x^3 + 40x^4 + 36x^5 + 32x^6 + 28x^7 + 24x^8 + 20x^9 + 16x^10 + 12x^11 + 8x^12 + 4x^13 + 0x^14 + 124x^15 + 120x^16 + 116x^17 + 112x^18 + 108x^19 + 104x^20 + 100x^21 + 96x^22 + 92x^23 + 88x^24 + 84x^25 + 80x^26 + 76x^27 + 72x^28 + 68x^29 + 64x^30 + 60x^31 + 56x^32 + 52x^33 + 48x^34 + 44x^35 + 40x^36 + 36x^37 + 32x^38 + 28x^39 + 24x^40 + 20x^41 + 16x^42 + 12x^43 + 8x^44 + 4x^45 + 0x^46 + 124x^47 + 120x^48 + 116x^49 + 112x^50 + 108x^51 + 104x^52 + 100x^53 + 96x^54 + 92x^55 + 88x^56 + 44x^57 + 48x^58 + 52x^59 + 56x^60 + 60x^61 + 64x^62 + 68x^63)\n",
      "R(n=64, q=128, coeffs= 28 + 32x + 36x^2 + 40x^3 + 84x^4 + 80x^5 + 76x^6 + 72x^7 + 68x^8 + 64x^9 + 60x^10 + 56x^11 + 52x^12 + 48x^13 + 44x^14 + 40x^15 + 36x^16 + 32x^17 + 28x^18 + 24x^19 + 20x^20 + 16x^21 + 12x^22 + 8x^23 + 4x^24 + 0x^25 + 124x^26 + 120x^27 + 116x^28 + 112x^29 + 108x^30 + 104x^31 + 100x^32 + 96x^33 + 92x^34 + 88x^35 + 84x^36 + 80x^37 + 76x^38 + 72x^39 + 68x^40 + 64x^41 + 60x^42 + 56x^43 + 52x^44 + 48x^45 + 44x^46 + 40x^47 + 36x^48 + 32x^49 + 28x^50 + 24x^51 + 20x^52 + 16x^53 + 12x^54 + 8x^55 + 4x^56 + 0x^57 + 124x^58 + 120x^59 + 116x^60 + 112x^61 + 108x^62 + 104x^63)\n",
      "R(n=64, q=128, coeffs= 92 + 96x + 100x^2 + 104x^3 + 108x^4 + 112x^5 + 116x^6 + 120x^7 + 124x^8 + 0x^9 + 4x^10 + 8x^11 + 12x^12 + 16x^13 + 20x^14 + 24x^15 + 28x^16 + 32x^17 + 36x^18 + 40x^19 + 44x^20 + 48x^21 + 52x^22 + 56x^23 + 60x^24 + 64x^25 + 68x^26 + 72x^27 + 76x^28 + 80x^29 + 84x^30 + 88x^31 + 92x^32 + 96x^33 + 100x^34 + 104x^35 + 108x^36 + 112x^37 + 116x^38 + 120x^39 + 124x^40 + 0x^41 + 4x^42 + 8x^43 + 12x^44 + 16x^45 + 20x^46 + 24x^47 + 28x^48 + 32x^49 + 36x^50 + 40x^51 + 84x^52 + 80x^53 + 76x^54 + 72x^55 + 68x^56 + 64x^57 + 60x^58 + 56x^59 + 52x^60 + 48x^61 + 44x^62 + 40x^63)\n",
      "R(n=64, q=128, coeffs= 76 + 72x + 68x^2 + 64x^3 + 60x^4 + 56x^5 + 52x^6 + 48x^7 + 44x^8 + 40x^9 + 36x^10 + 32x^11 + 28x^12 + 24x^13 + 20x^14 + 16x^15 + 12x^16 + 8x^17 + 4x^18 + 0x^19 + 124x^20 + 120x^21 + 116x^22 + 112x^23 + 108x^24 + 104x^25 + 100x^26 + 96x^27 + 92x^28 + 88x^29 + 44x^30 + 48x^31 + 52x^32 + 56x^33 + 60x^34 + 64x^35 + 68x^36 + 72x^37 + 76x^38 + 80x^39 + 84x^40 + 88x^41 + 92x^42 + 96x^43 + 100x^44 + 104x^45 + 108x^46 + 112x^47 + 116x^48 + 120x^49 + 124x^50 + 0x^51 + 4x^52 + 8x^53 + 12x^54 + 16x^55 + 20x^56 + 24x^57 + 28x^58 + 32x^59 + 36x^60 + 40x^61 + 44x^62 + 48x^63)\n",
      "R(n=64, q=128, coeffs= 28 + 24x + 20x^2 + 16x^3 + 12x^4 + 8x^5 + 4x^6 + 0x^7 + 124x^8 + 120x^9 + 116x^10 + 112x^11 + 108x^12 + 104x^13 + 100x^14 + 96x^15 + 92x^16 + 88x^17 + 84x^18 + 80x^19 + 76x^20 + 72x^21 + 68x^22 + 64x^23 + 60x^24 + 56x^25 + 52x^26 + 48x^27 + 44x^28 + 40x^29 + 36x^30 + 32x^31 + 28x^32 + 24x^33 + 20x^34 + 16x^35 + 12x^36 + 8x^37 + 4x^38 + 0x^39 + 124x^40 + 120x^41 + 116x^42 + 112x^43 + 108x^44 + 104x^45 + 100x^46 + 96x^47 + 92x^48 + 88x^49 + 44x^50 + 48x^51 + 52x^52 + 56x^53 + 60x^54 + 64x^55 + 68x^56 + 72x^57 + 76x^58 + 80x^59 + 84x^60 + 88x^61 + 92x^62 + 96x^63)\n",
      "R(n=64, q=128, coeffs= 76 + 72x + 68x^2 + 64x^3 + 60x^4 + 56x^5 + 52x^6 + 48x^7 + 44x^8 + 40x^9 + 36x^10 + 32x^11 + 28x^12 + 24x^13 + 20x^14 + 16x^15 + 12x^16 + 8x^17 + 4x^18 + 0x^19 + 124x^20 + 120x^21 + 116x^22 + 112x^23 + 108x^24 + 104x^25 + 100x^26 + 96x^27 + 92x^28 + 88x^29 + 84x^30 + 80x^31 + 76x^32 + 72x^33 + 68x^34 + 64x^35 + 60x^36 + 56x^37 + 52x^38 + 48x^39 + 44x^40 + 40x^41 + 36x^42 + 32x^43 + 28x^44 + 24x^45 + 20x^46 + 16x^47 + 12x^48 + 8x^49 + 4x^50 + 0x^51 + 124x^52 + 120x^53 + 116x^54 + 112x^55 + 108x^56 + 104x^57 + 100x^58 + 96x^59 + 92x^60 + 88x^61 + 44x^62 + 48x^63)\n",
      "R(n=64, q=128, coeffs= 76 + 80x + 84x^2 + 88x^3 + 92x^4 + 96x^5 + 100x^6 + 104x^7 + 108x^8 + 112x^9 + 116x^10 + 120x^11 + 124x^12 + 0x^13 + 4x^14 + 8x^15 + 12x^16 + 16x^17 + 20x^18 + 24x^19 + 28x^20 + 32x^21 + 36x^22 + 40x^23 + 84x^24 + 80x^25 + 76x^26 + 72x^27 + 68x^28 + 64x^29 + 60x^30 + 56x^31 + 52x^32 + 48x^33 + 44x^34 + 40x^35 + 36x^36 + 32x^37 + 28x^38 + 24x^39 + 20x^40 + 16x^41 + 12x^42 + 8x^43 + 4x^44 + 0x^45 + 124x^46 + 120x^47 + 116x^48 + 112x^49 + 108x^50 + 104x^51 + 100x^52 + 96x^53 + 92x^54 + 88x^55 + 84x^56 + 80x^57 + 76x^58 + 72x^59 + 68x^60 + 64x^61 + 60x^62 + 56x^63)\n",
      "R(n=64, q=128, coeffs= 0 + 124x + 120x^2 + 116x^3 + 112x^4 + 108x^5 + 104x^6 + 100x^7 + 96x^8 + 92x^9 + 88x^10 + 44x^11 + 48x^12 + 52x^13 + 56x^14 + 60x^15 + 64x^16 + 68x^17 + 72x^18 + 76x^19 + 80x^20 + 84x^21 + 88x^22 + 92x^23 + 96x^24 + 100x^25 + 104x^26 + 108x^27 + 112x^28 + 116x^29 + 120x^30 + 124x^31 + 0x^32 + 4x^33 + 8x^34 + 12x^35 + 16x^36 + 20x^37 + 24x^38 + 28x^39 + 32x^40 + 36x^41 + 40x^42 + 44x^43 + 48x^44 + 52x^45 + 56x^46 + 60x^47 + 64x^48 + 68x^49 + 72x^50 + 76x^51 + 80x^52 + 84x^53 + 88x^54 + 92x^55 + 96x^56 + 100x^57 + 104x^58 + 108x^59 + 112x^60 + 116x^61 + 120x^62 + 124x^63)\n",
      "R(n=64, q=128, coeffs= 4 + 0x + 124x^2 + 120x^3 + 116x^4 + 112x^5 + 108x^6 + 104x^7 + 100x^8 + 96x^9 + 92x^10 + 88x^11 + 84x^12 + 80x^13 + 76x^14 + 72x^15 + 68x^16 + 64x^17 + 60x^18 + 56x^19 + 52x^20 + 48x^21 + 44x^22 + 40x^23 + 36x^24 + 32x^25 + 28x^26 + 24x^27 + 20x^28 + 16x^29 + 12x^30 + 8x^31 + 4x^32 + 0x^33 + 124x^34 + 120x^35 + 116x^36 + 112x^37 + 108x^38 + 104x^39 + 100x^40 + 96x^41 + 92x^42 + 88x^43 + 44x^44 + 48x^45 + 52x^46 + 56x^47 + 60x^48 + 64x^49 + 68x^50 + 72x^51 + 76x^52 + 80x^53 + 84x^54 + 88x^55 + 92x^56 + 96x^57 + 100x^58 + 104x^59 + 108x^60 + 112x^61 + 116x^62 + 120x^63)\n",
      "4\n"
     ]
    }
   ],
   "source": [
    "ct0 = fhew.encrypt(0, s)\n",
    "ct1 = fhew.encrypt(1, s)\n",
    "\n",
    "ctxt_operand =  fhew.LWE_CC.add(ct0, ct1)\n",
    "a, b = ctxt_operand\n",
    "print((b - np.dot(a, s)) % q)\n",
    "\n",
    "# acc = fhew.acc_init(ctxt_operand, \"AND\")\n",
    "acc = nega_ACC_init(b, q, N)\n",
    "\n",
    "operanded_a, operanded_b = ctxt_operand\n",
    "acc_a, acc_b = acc\n",
    "\n",
    "tmp_acc     = acc\n",
    "_, test_acc = acc\n",
    "print(\"Ideal extraction : \", test_acc[int((b - np.dot(a, s)) % q)])\n",
    "print(\"ACC : \", test_acc)\n",
    "\n",
    "# Blind rotation\n",
    "print(operanded_a)\n",
    "\n",
    "# [Test] set encryption with rlwe\n",
    "tmp_acc = fhew.RLWE_CC.encrypt(test_acc, s_ring)\n",
    "\n",
    "for i, _a in enumerate(operanded_a):\n",
    "    # print(i, \" : \", \"as : \", _a * s[i] % fhew.q)\n",
    "    if(_a == 0):continue\n",
    "    for j in range(fhew.d_g):\n",
    "        v = _a % fhew.B\n",
    "        _a = _a // fhew.B\n",
    "        # if v == 0 : continue\n",
    "        tmp_acc = fhew.RGSW_CC.mult_rlwe(tmp_acc, fhew.brk[i][v][j])\n",
    "\n",
    "    acc_decrypted = fhew.RLWE_CC.decrypt(tmp_acc, s_ring)\n",
    "    print(acc_decrypted)\n",
    "\n",
    "print(acc_decrypted.coeffs[0])"
   ]
  },
  {
   "cell_type": "code",
   "execution_count": 7,
   "metadata": {},
   "outputs": [
    {
     "name": "stdout",
     "output_type": "stream",
     "text": [
      "[128.  88.  31.  72.  72. 109. 108. 128.  35. 128. 116.  66.  92. 127.  46.  89.]\n"
     ]
    }
   ],
   "source": [
    "aaa = np.array(operanded_a)\n",
    "sss = np.array(s)\n",
    "\n",
    "print(q - ((aaa * sss) % q))"
   ]
  },
  {
   "cell_type": "code",
   "execution_count": null,
   "metadata": {},
   "outputs": [],
   "source": []
  }
 ],
 "metadata": {
  "kernelspec": {
   "display_name": "Python 3",
   "language": "python",
   "name": "python3"
  },
  "language_info": {
   "codemirror_mode": {
    "name": "ipython",
    "version": 3
   },
   "file_extension": ".py",
   "mimetype": "text/x-python",
   "name": "python",
   "nbconvert_exporter": "python",
   "pygments_lexer": "ipython3",
   "version": "3.10.12"
  }
 },
 "nbformat": 4,
 "nbformat_minor": 2
}
