{
 "cells": [
  {
   "cell_type": "markdown",
   "metadata": {},
   "source": [
    "# DM-like blind rotation\n",
    "\n",
    "For details, read follow papers\n",
    "\n",
    "* <a href=\"https://eprint.iacr.org/2014/816\"> FHEW: Bootstrapping Homomorphic Encryption in less than a second </a>\n",
    "* <a href=\"https://eprint.iacr.org/2020/086\"> Bootstrapping in FHEW-like Cryptosystems </a>\n",
    "\n",
    "---"
   ]
  },
  {
   "cell_type": "code",
   "execution_count": 1,
   "metadata": {},
   "outputs": [],
   "source": [
    "import numpy as np\n",
    "from note_include.elem.Ring import Ring\n",
    "from note_include.FHEW      import FHEW\n",
    "from note_include.elem.RLWE import RLWE\n",
    "\n",
    "np.set_printoptions(threshold=np.inf, linewidth=np.inf)"
   ]
  },
  {
   "cell_type": "markdown",
   "metadata": {},
   "source": [
    "---"
   ]
  },
  {
   "cell_type": "code",
   "execution_count": 2,
   "metadata": {},
   "outputs": [],
   "source": [
    "q    = 128\n",
    "n    = 16\n",
    "Q    = 128\n",
    "N    = 64\n",
    "B    = 256\n",
    "B_ks = 256\n",
    "std  = 0"
   ]
  },
  {
   "cell_type": "markdown",
   "metadata": {},
   "source": [
    "We should define message in binary domain, $m \\in \\{0,1\\}$.   \n",
    "We can define encryption method as follows:\n",
    "\n",
    ">$\\textbf{Definition}$\n",
    ">\n",
    ">Let $m \\in \\{0,1\\}$ is a message, $\\vec{a}$ is a vector of random number $a_i \\in \\Z_q$, $\\vec{s}$ is a secret values, and $e$ is a small noise value.   \n",
    ">Then we can define encryption method as follows:\n",
    ">\n",
    ">\\begin{align*}\n",
    ">    \\textsf{FHEW.enc}(m; \\vec{s}) = (\\vec{a}, b), \\text{ where } b = \\lang \\vec{a}, \\vec{s} \\rang + m \\cdot q/4 + e.\n",
    ">\\end{align*}\n",
    ">\n",
    ">The decryption method can be easily defined as follows:\n",
    ">\n",
    ">\\begin{align*}\n",
    ">    \\textsf{FHEW.dec}((a,b); \\vec{s}) = b - \\lang \\vec{a}, \\vec{s} \\rang = m \\cdot q/4 + e \\approx m \\cdot q/4.\n",
    ">\\end{align*}"
   ]
  },
  {
   "cell_type": "code",
   "execution_count": 3,
   "metadata": {},
   "outputs": [],
   "source": [
    "# fhew = FHEW(n, q, N, Q, std, B, B_ks)\n",
    "# rlwe = RLWE(N, Q, std)\n",
    "# s, s_ring = fhew.dm_keygen()\n"
   ]
  },
  {
   "cell_type": "code",
   "execution_count": 4,
   "metadata": {},
   "outputs": [],
   "source": [
    "# snum = 0\n",
    "# fnum = 0\n",
    "\n",
    "# for i in range(1000):\n",
    "#     m0  = np.random.randint(0, 2)\n",
    "#     m1  = np.random.randint(0, 2)\n",
    "\n",
    "#     ct0 = fhew.encrypt(m0, s)\n",
    "#     ct1 = fhew.encrypt(m1, s)\n",
    "\n",
    "#     ctxt_operand =  fhew.LWE_CC.add(ct0, ct1)\n",
    "#     a, b = ctxt_operand\n",
    "\n",
    "#     acc = fhew.acc_init(ctxt_operand, \"AND\")\n",
    "#     # acc = nega_ACC_init(b, q, N)\n",
    "\n",
    "#     operanded_a, operanded_b = ctxt_operand\n",
    "#     acc_a, acc_b = acc\n",
    "\n",
    "#     _, test_acc = acc\n",
    "\n",
    "#     # [Test] set encryption with rlwe\n",
    "#     tmp_acc = fhew.RLWE_CC.encrypt(test_acc, s_ring)\n",
    "\n",
    "#     for i, _a in enumerate(operanded_a):\n",
    "#         # print(i, \" : \", \"as : \", _a * s[i] % fhew.q)\n",
    "#         if(_a == 0):continue\n",
    "#         for j in range(fhew.d_g):\n",
    "#             v = _a % fhew.B\n",
    "#             _a = _a // fhew.B\n",
    "#             # if v == 0 : continue\n",
    "#             tmp_acc = fhew.RGSW_CC.mult_rlwe(tmp_acc, fhew.brk[i][v][j])\n",
    "\n",
    "#     acc_decrypted = fhew.RLWE_CC.decrypt(tmp_acc, s_ring)\n",
    "#     constant_term = (acc_decrypted.coeffs[0] + Q//8) % Q\n",
    "#     # print((acc_decrypted.coeffs[0] + Q//8) % Q, \" and message :: \", m0, \" and \", m1 ,\" = \", m0 and m1)\n",
    "\n",
    "#     if constant_term   == Q//4  and (m0 and m1) == 1:\n",
    "#         snum += 1\n",
    "#     elif constant_term == 0     and (m0 and m1) == 0:\n",
    "#         snum += 1\n",
    "#     else:\n",
    "#         fnum += 1\n",
    "\n",
    "# print(\"Success number : \", snum)\n",
    "# print(\"Fail number    : \", fnum)\n",
    "\n",
    "# # acc_decrypted = fhew.RLWE_CC.decrypt(tmp_acc, s_ring)\n",
    "\n"
   ]
  },
  {
   "cell_type": "code",
   "execution_count": 5,
   "metadata": {},
   "outputs": [],
   "source": [
    "q    = 128\n",
    "n    = 16\n",
    "Q    = 128\n",
    "N    = 64\n",
    "B    = 256\n",
    "B_ks = 256\n",
    "std  = 0\n",
    "\n",
    "fhew = FHEW(n, q, N, Q, std, B, B_ks)\n",
    "rlwe = RLWE(N, Q, std)\n",
    "s, s_ring = fhew.dm_keygen()"
   ]
  },
  {
   "cell_type": "code",
   "execution_count": 28,
   "metadata": {},
   "outputs": [
    {
     "name": "stdout",
     "output_type": "stream",
     "text": [
      "Decrypted message :  1  ||| plain message :  1  and  1  =  1\n"
     ]
    }
   ],
   "source": [
    "m0  = np.random.randint(0, 2)\n",
    "m1  = np.random.randint(0, 2)\n",
    "\n",
    "ct0 = fhew.encrypt(m0, s)\n",
    "ct1 = fhew.encrypt(m1, s)\n",
    "\n",
    "ct_and = fhew.evalBin(ct0, ct1, \"AND\")\n",
    "pt_and = fhew.decrypt(ct_and, s)\n",
    "\n",
    "print(\"Decrypted message : \", pt_and, \" ||| plain message : \", m0, \" and \", m1, \" = \", m0 and m1)"
   ]
  },
  {
   "cell_type": "code",
   "execution_count": null,
   "metadata": {},
   "outputs": [],
   "source": []
  }
 ],
 "metadata": {
  "kernelspec": {
   "display_name": "Python 3",
   "language": "python",
   "name": "python3"
  },
  "language_info": {
   "codemirror_mode": {
    "name": "ipython",
    "version": 3
   },
   "file_extension": ".py",
   "mimetype": "text/x-python",
   "name": "python",
   "nbconvert_exporter": "python",
   "pygments_lexer": "ipython3",
   "version": "3.10.12"
  }
 },
 "nbformat": 4,
 "nbformat_minor": 2
}
