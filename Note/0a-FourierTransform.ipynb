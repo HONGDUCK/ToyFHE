{
 "cells": [
  {
   "cell_type": "markdown",
   "metadata": {},
   "source": [
    "# 0A - Fourier Transfrom\n",
    "---"
   ]
  },
  {
   "cell_type": "code",
   "execution_count": 1,
   "metadata": {},
   "outputs": [],
   "source": [
    "import numpy as np\n",
    "np.set_printoptions(linewidth=np.inf)\n",
    "np.set_printoptions(threshold=np.inf)\n"
   ]
  },
  {
   "cell_type": "markdown",
   "metadata": {},
   "source": [
    "---"
   ]
  },
  {
   "cell_type": "markdown",
   "metadata": {},
   "source": [
    ">$\\textbf{Definition 1.}$\n",
    ">\n",
    ">복소수 영역 ($\\mathbb{C}$) 에서 관측된 $N$ 개의 데이터가 있다고 해보자:\n",
    ">\n",
    ">\\begin{equation*}\n",
    ">    \\{ x_n \\} := x_0, x_1, \\dots, x_{N-1}\n",
    ">\\end{equation*}\n",
    ">\n",
    ">이 때 Discrete Fourier Transformation ($\\textsf{DFT}$) 의 결과집합인 $\\{ X_k \\} := X_0, X_1, \\dots, X_{N-1}$ 은 다음과 같이 정의된다:\n",
    ">\n",
    ">\\begin{align*}\n",
    ">    X_k = \\sum_{n=0}^{N-1} x_n \\cdot \\exp{\\left(-i 2\\pi n \\frac{k}{N}\\right)}\n",
    ">\\end{align*}"
   ]
  },
  {
   "cell_type": "code",
   "execution_count": 14,
   "metadata": {},
   "outputs": [],
   "source": [
    "def DFT(x):\n",
    "    N = len(x)\n",
    "    X = np.zeros(N, dtype=complex)\n",
    "\n",
    "    for k in range(N):\n",
    "        X_k = 0\n",
    "        for n, x_n in enumerate(x):\n",
    "            X_k += x_n * np.exp(-1j * 2 * np.pi * n * k / N)\n",
    "        X[k] = X_k\n",
    "\n",
    "    return X"
   ]
  },
  {
   "cell_type": "code",
   "execution_count": 23,
   "metadata": {},
   "outputs": [
    {
     "name": "stdout",
     "output_type": "stream",
     "text": [
      "Our DFT      :  [10.+0.00000000e+00j -2.+2.00000000e+00j -2.-9.79717439e-16j -2.-2.00000000e+00j]\n",
      "Original FFT :  [10.+0.j -2.+2.j -2.+0.j -2.-2.j]\n"
     ]
    }
   ],
   "source": [
    "x = [1, 2, 3, 4]\n",
    "X = DFT(x)\n",
    "print(\"Our DFT      : \", X)\n",
    "print(\"Original FFT : \", np.fft.fft(x))"
   ]
  },
  {
   "cell_type": "markdown",
   "metadata": {},
   "source": [
    ">$\\textbf{Definition 2.}$\n",
    ">\n",
    ">$\\textsf{DFT}$ 의 결과집합인 $\\{ X_k \\}$ 가 주어졌다고 할 때,\n",
    ">이에 대한 Inverse Discrete Fourier Transform ($\\textsf{IDFT}$) 의 결과 집합 $\\{x_n\\}$ 은 다음과 같이 정의된다:\n",
    ">\n",
    ">\\begin{align*}\n",
    ">    x_n = \\frac{1}{N} \\sum_{k=0}^{N-1} X_k \\cdot \\exp{\\left( i 2 \\pi n \\frac{k}{N} \\right)}.\n",
    ">\\end{align*}\n"
   ]
  },
  {
   "cell_type": "code",
   "execution_count": 24,
   "metadata": {},
   "outputs": [],
   "source": [
    "def IDFT(X):\n",
    "    N = len(X)\n",
    "    x = np.zeros(N, dtype=complex)\n",
    "\n",
    "    for n in range(N):\n",
    "        x_n = 0\n",
    "        for k, X_k in enumerate(X):\n",
    "            x_n += X_k * np.exp(1j * 2 * np.pi * n * k / N)\n",
    "        x[n] = (1/N) * x_n\n",
    "\n",
    "    return x"
   ]
  },
  {
   "cell_type": "code",
   "execution_count": 22,
   "metadata": {},
   "outputs": [
    {
     "name": "stdout",
     "output_type": "stream",
     "text": [
      "Our DFT      :  [1. 2. 3. 4.]\n",
      "Original Msg :  [1, 2, 3, 4]\n"
     ]
    }
   ],
   "source": [
    "x_ = IDFT(X)\n",
    "print(\"Our DFT      : \", x_.real)\n",
    "print(\"Original Msg : \", x)"
   ]
  },
  {
   "cell_type": "markdown",
   "metadata": {},
   "source": [
    "---\n",
    "\n",
    "## Real and Imaginary part\n",
    "\n",
    "다음의 표는 time domain 과 frequency domain 에서의 real, imag part 에 대한 연산의 정의를 나타내고 있다.\n",
    "\n",
    "\n",
    "\\begin{array}{c|c|c}\n",
    "    \\textbf{Property}        & \\textbf{Time domain $x_n$}    & \\textbf{Freq domain $X_k$} \\\\ \\hline\n",
    "    \\text{Real part in time} & \\textsf{Re}(x_n)              & \\frac{1}{2}(X_k + X^*_{N-k}) \\\\\n",
    "    \\text{Imag part in time} & \\textsf{Im}(x_n)              & \\frac{1}{2}(X_k - X^*_{N-k}) \\\\\n",
    "    \\text{Real part in freq} & \\frac{1}{2}(x_n + x^*_{N-n})  & \\textsf{Re}(X_k)             \\\\\n",
    "    \\text{Imag part in freq} & \\frac{1}{2}(x_n - x^*_{N-n})  & \\textsf{Im}(X_k)             \\\\\n",
    "\\end{array}\n",
    "\n",
    "추가적으로 참고할 것은 time domain 에서 conjugation 은 다음과 같은 성질을 갖는다는 것이다.\n",
    "\n",
    "\\begin{equation*}\n",
    "    \\text{If, } \\textsf{DFT}(\\{x_n\\})_k = X_k \\text{, then } \\textsf{DFT}(\\{x^*_n\\})_k = X^*_{N-k}\n",
    "\\end{equation*}\n"
   ]
  },
  {
   "cell_type": "code",
   "execution_count": 48,
   "metadata": {},
   "outputs": [
    {
     "name": "stdout",
     "output_type": "stream",
     "text": [
      "[ 1.0000000e+01-1.00000000e+01j -8.8817842e-16+4.00000000e+00j -2.0000000e+00+2.00000000e+00j -4.0000000e+00-2.22044605e-15j]\n",
      "[ 1.00000000e+01-1.0000000e+01j  2.22044605e-15+4.0000000e+00j -2.00000000e+00+2.0000000e+00j -4.00000000e+00+8.8817842e-16j]\n"
     ]
    }
   ],
   "source": [
    "x = np.array([1 + 1j, 2 + 2j, 3 + 3j, 4 + 4j])\n",
    "x_conj = np.conjugate(x)\n",
    "\n",
    "X      = DFT(x)\n",
    "X_conj = DFT(x_conj)\n",
    "X_tmp  = np.conjugate(X)\n",
    "X_tmp  = np.concatenate((X_tmp[:1], X_tmp[:0:-1])) # X^*_{N-k}\n",
    "\n",
    "print(X_conj)\n",
    "print(X_tmp)"
   ]
  },
  {
   "cell_type": "markdown",
   "metadata": {},
   "source": [
    "---\n",
    "## Shift Theorem\n",
    "\n",
    "\\begin{align*}\n",
    "    &\\text{If, } \\textsf{DFT}(\\{x_n\\})_k = X_k \\\\\n",
    "    &\\text{then, } \\textsf{DFT}\\left( \\left\\{\n",
    "        x_n \\cdot \\exp(i 2 \\pi nm / N)\n",
    "    \\right\\} \\right)_k = X_{k-m} \\\\\n",
    "    &\\text{and, } \\textsf{DFT}(\\{ x_{n-m}\\})_k = X_k \\cdot \\exp(- 2i\\pi km/N)\n",
    "\\end{align*}"
   ]
  },
  {
   "cell_type": "code",
   "execution_count": 104,
   "metadata": {},
   "outputs": [
    {
     "name": "stdout",
     "output_type": "stream",
     "text": [
      "[-2.-2.00000000e+00j 10.+0.00000000e+00j -2.+2.00000000e+00j -2.-9.79717439e-16j]\n",
      "[-2.-2.00000000e+00j 10.+0.00000000e+00j -2.+2.00000000e+00j -2.-9.79717439e-16j]\n",
      "[10.+0.00000000e+00j  2.+2.00000000e+00j  2.-7.34788079e-16j  2.-2.00000000e+00j]\n",
      "[(10+0j), (1.9999999999999993+2.0000000000000004j), (2+1.2246467991473533e-15j), (2.0000000000000013-1.9999999999999978j)]\n"
     ]
    }
   ],
   "source": [
    "m = 1\n",
    "N = 4\n",
    "x = [1, 2, 3, 4]\n",
    "X = DFT(x)\n",
    "X_roll = np.roll(X, m)\n",
    "\n",
    "x_ = [elem * np.exp(2 * 1j * np.pi * n * m / N)  for n, elem in enumerate(x)]\n",
    "X_ = DFT(x_)\n",
    "\n",
    "print(X_roll)\n",
    "print(X_)\n",
    "\n",
    "x_roll = np.roll(x, m)\n",
    "\n",
    "X__  = DFT(x_roll)\n",
    "X___ = [elem * np.exp(-2j * np.pi * k * m / N) for k, elem in enumerate(X)]\n",
    "\n",
    "print(X__)\n",
    "print(X___)"
   ]
  },
  {
   "cell_type": "markdown",
   "metadata": {},
   "source": [
    "---\n",
    "## Circular convolution theorem and cross-correlation theorem\n",
    "\n",
    "\\begin{align*}\n",
    "    x \\ast y_N = \\textsf{IDFT}(\\textsf{DFT}(\\{x_N\\}) \\cdot \\textsf{DFT}(\\{y_N\\}))\n",
    "\\end{align*}"
   ]
  },
  {
   "cell_type": "code",
   "execution_count": 111,
   "metadata": {},
   "outputs": [
    {
     "name": "stdout",
     "output_type": "stream",
     "text": [
      "[66. 68. 66. 60.]\n",
      "[66. 68. 66. 60.]\n"
     ]
    }
   ],
   "source": [
    "x = [1, 2, 3, 4]\n",
    "y = [5 ,6, 7, 8]\n",
    "\n",
    "X = DFT(x)\n",
    "Y = DFT(y)\n",
    "\n",
    "O = [_x * _y for _x, _y in zip(X,Y)]\n",
    "o = IDFT(O)\n",
    "print(o.real) # result via (I)DFT\n",
    "\n",
    "poly_x = np.poly1d(x)\n",
    "poly_y = np.poly1d(y)\n",
    "div = np.zeros(4 + 1)\n",
    "div[0] = -1\n",
    "div[-1] = 1\n",
    "poly_div = np.poly1d(div)\n",
    "\n",
    "poly_mul = np.polymul(poly_x, poly_y)\n",
    "q, r = np.polydiv(poly_mul, poly_div)\n",
    "print(r.coef[::-1]) # result via cyclic convolution"
   ]
  },
  {
   "cell_type": "markdown",
   "metadata": {},
   "source": []
  },
  {
   "cell_type": "markdown",
   "metadata": {},
   "source": []
  }
 ],
 "metadata": {
  "kernelspec": {
   "display_name": "Python 3",
   "language": "python",
   "name": "python3"
  },
  "language_info": {
   "codemirror_mode": {
    "name": "ipython",
    "version": 3
   },
   "file_extension": ".py",
   "mimetype": "text/x-python",
   "name": "python",
   "nbconvert_exporter": "python",
   "pygments_lexer": "ipython3",
   "version": "3.10.12"
  }
 },
 "nbformat": 4,
 "nbformat_minor": 2
}
