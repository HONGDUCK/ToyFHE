{
 "cells": [
  {
   "cell_type": "markdown",
   "metadata": {},
   "source": [
    "# Polynomial\n",
    "---\n",
    "\n",
    "시작하기 앞서 동형암호에서 주로 사용되는 대수구조인 $\\Z_q[X]/(X^N+1)$ 에 대해서 자세히 파악할 필요가 있다.\n",
    "\n",
    "그 전에 우리에게 익숙한 일반적인 정수 다항식 $\\Z[X]$ 부터 생각해보자. 간단하게 다음과 같은 예시를 들 수 있다.\n",
    "\n",
    "\\begin{align*}\n",
    "    1 + 2x + 3x^3 + 4x^4.\n",
    "\\end{align*}\n",
    "\n",
    "이러한 정수 다항식 $\\Z[X]$ 에서 사용할 수 있는 연산은 대표적으로 두 가지가 있다: 하나는 다항식간의 덧셈이며, 다른 하나는 다항식간의 곱셈이다.   \n",
    "다음의 두 연산의 정의를 살펴보자.\n",
    "\n",
    ">$\\textbf{Definition : Polynomial addition}$   \n",
    ">$G(x)$ 와 $H(x)$ 가 각각 $n-1$ 의 차수를 갖는 다항식이라 하자. 이 때 다항식 덧셈(polynomial addition)은 다음과 같이 정의된다:\n",
    ">\\begin{align*}\n",
    ">    Y(x) = G(x) + H(x) = \\sum_{k=0}^{n-1} y_k \\cdot x^k, \\text{ where } y_k = g_k + h_k.\n",
    ">\\end{align*}\n",
    "\n",
    ">$\\textbf{Definition : Polynomial multiplication}$   \n",
    ">$G(x)$ 와 $H(x)$ 가 각각 $n-1$ 의 차수를 갖는 다항식이라 하자. 이 때 다항식 곱셈(polynomial multiplication)은 다음과 같이 정의된다:\n",
    ">\\begin{align*}\n",
    ">    Y(x) = G(x) + H(x) = \\sum_{k=0}^{2(n-1)} y_k \\cdot x^k, \\text{ where } y_k = \\sum_{i=0}^{k} g_i \\cdot h_{k-i}.\n",
    ">\\end{align*}\n",
    "\n",
    "깔끔한 정의는 아니지만 대략적으로 다음과 같이 정의할 수 있다.   \n",
    "여기서 다항식 곱셈은 합성곱(convolution)이라는 명칭으로 불리기도 한다.\n",
    "\n",
    "다음의 코드는 다항식간의 덧셈과 곱셈을 간단히 보여준다.\n"
   ]
  },
  {
   "cell_type": "code",
   "execution_count": 5,
   "metadata": {},
   "outputs": [],
   "source": [
    "import numpy as np"
   ]
  },
  {
   "cell_type": "code",
   "execution_count": 19,
   "metadata": {},
   "outputs": [
    {
     "name": "stdout",
     "output_type": "stream",
     "text": [
      "Polynomial addition       :  [ 6  8 10 12]\n",
      "Polynomial multiplication :  [ 5 16 34 60 61 52 32]\n"
     ]
    }
   ],
   "source": [
    "poly1 = [1, 2, 3, 4]\n",
    "poly2 = [5, 6, 7, 8]\n",
    "\n",
    "poly_add = np.polyadd(poly1, poly2)\n",
    "poly_mul = np.polymul(poly1, poly2)\n",
    "\n",
    "print(\"Polynomial addition       : \", poly_add)\n",
    "print(\"Polynomial multiplication : \", poly_mul)"
   ]
  },
  {
   "cell_type": "markdown",
   "metadata": {},
   "source": [
    "\n",
    "---\n",
    "이번에는 다항식의 계수가 $\\Z_q$ 상에서 정의되는 다항식인 $\\Z_q[X]$ 에 대해서 알아보자.   \n",
    "간단하게 생각하여 이전에서 다루었던 다항식의 계수가 [0,q) 의 영역으로 제한된다고 생각하면 된다. 위의 정의를 빌려와 정리해보자.\n",
    "\n",
    ">$\\textbf{Definition : Polynomial addition in } \\Z_q$   \n",
    ">$G(x)$ 와 $H(x)$ 가 각각 $n-1$ 의 차수를 갖는 다항식이라 하자. 이 때 다항식 덧셈(polynomial addition)은 다음과 같이 정의된다:\n",
    ">\\begin{align*}\n",
    ">    Y(x) = G(x) + H(x) = \\sum_{k=0}^{n-1} y_k \\cdot x^k, \\text{ where } y_k = g_k + h_k \\text{ mod }q.\n",
    ">\\end{align*}\n",
    "\n",
    ">$\\textbf{Definition : Polynomial multiplication in } \\Z_q$   \n",
    ">$G(x)$ 와 $H(x)$ 가 각각 $n-1$ 의 차수를 갖는 다항식이라 하자. 이 때 다항식 곱셈(polynomial multiplication)은 다음과 같이 정의된다:\n",
    ">\\begin{align*}\n",
    ">    Y(x) = G(x) + H(x) = \\sum_{k=0}^{2(n-1)} y_k \\cdot x^k, \\text{ where } y_k = \\sum_{i=0}^{k} g_i \\cdot h_{k-i} \\text{ mod }q.\n",
    ">\\end{align*}\n",
    "\n",
    "위와 같이 계수를 결정하는 연산에 modulus 연산을 수행해주는 차이밖에 없다.\n",
    "이는 다음과 같이 코드로 표현할 수 있을 것이다."
   ]
  },
  {
   "cell_type": "code",
   "execution_count": null,
   "metadata": {},
   "outputs": [],
   "source": []
  }
 ],
 "metadata": {
  "kernelspec": {
   "display_name": "Python 3",
   "language": "python",
   "name": "python3"
  },
  "language_info": {
   "codemirror_mode": {
    "name": "ipython",
    "version": 3
   },
   "file_extension": ".py",
   "mimetype": "text/x-python",
   "name": "python",
   "nbconvert_exporter": "python",
   "pygments_lexer": "ipython3",
   "version": "3.10.12"
  }
 },
 "nbformat": 4,
 "nbformat_minor": 2
}
