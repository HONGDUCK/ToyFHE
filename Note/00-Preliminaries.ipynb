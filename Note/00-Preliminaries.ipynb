{
 "cells": [
  {
   "cell_type": "markdown",
   "metadata": {},
   "source": [
    "### Import\n",
    "---"
   ]
  },
  {
   "cell_type": "code",
   "execution_count": 1,
   "metadata": {},
   "outputs": [],
   "source": [
    "import numpy as np"
   ]
  },
  {
   "cell_type": "markdown",
   "metadata": {},
   "source": [
    "# Polynomial\n",
    "---\n",
    "\n",
    "시작하기 앞서 동형암호에서 주로 사용되는 대수구조인 $\\mathbb{Z}_q[X]/(X^N+1)$ 에 대해서 자세히 파악할 필요가 있다.\n",
    "\n",
    "그 전에 우리에게 익숙한 일반적인 정수 다항식 $\\mathbb{Z}[X]$ 부터 생각해보자. 간단하게 다음과 같은 예시를 들 수 있다.\n",
    "\n",
    "\\begin{align*}\n",
    "    1 + 2x + 3x^3 + 4x^4.\n",
    "\\end{align*}\n",
    "\n",
    "이러한 정수 다항식 $\\mathbb{Z}[X]$ 에서 사용할 수 있는 연산은 대표적으로 두 가지가 있다: 하나는 다항식간의 덧셈이며, 다른 하나는 다항식간의 곱셈이다.   \n",
    "\n",
    "다음의 두 연산의 정의를 살펴보자.\n",
    "\n",
    ">$\\textbf{Definition : Polynomial addition}$   \n",
    ">\n",
    ">$G(x)$ 와 $H(x)$ 가 각각 $n-1$ 의 차수를 갖는 다항식이라 하자. 이 때 다항식 덧셈(polynomial addition)은 다음과 같이 정의된다:\n",
    ">\n",
    ">\\begin{align*}\n",
    ">    Y(x) = G(x) + H(x) = \\sum_{k=0}^{n-1} y_k \\cdot x^k, \\text{ where } y_k = g_k + h_k.\n",
    ">\\end{align*}\n",
    "\n",
    ">$\\textbf{Definition : Polynomial multiplication}$   \n",
    ">\n",
    ">$G(x)$ 와 $H(x)$ 가 각각 $n-1$ 의 차수를 갖는 다항식이라 하자. 이 때 다항식 곱셈(polynomial multiplication)은 다음과 같이 정의된다:\n",
    ">\n",
    ">\\begin{align*}\n",
    ">    Y(x) = G(x) + H(x) = \\sum_{k=0}^{2(n-1)} y_k \\cdot x^k, \\text{ where } y_k = \\sum_{i=0}^{k} g_i \\cdot h_{k-i}.\n",
    ">\\end{align*}\n",
    "\n",
    "깔끔한 정의는 아니지만 대략적으로 다음과 같이 정의할 수 있다.   \n",
    "\n",
    "여기서 다항식 곱셈은 합성곱(convolution)이라는 명칭으로 불리기도 한다.\n",
    "\n",
    "다음의 코드는 다항식간의 덧셈과 곱셈을 간단히 보여준다.\n"
   ]
  },
  {
   "cell_type": "code",
   "execution_count": 2,
   "metadata": {},
   "outputs": [
    {
     "name": "stdout",
     "output_type": "stream",
     "text": [
      "Polynomial addition       :  [ 6  8 10 12]\n",
      "Polynomial multiplication :  [ 5 16 34 60 61 52 32]\n"
     ]
    }
   ],
   "source": [
    "poly1 = [1, 2, 3, 4]\n",
    "poly2 = [5, 6, 7, 8]\n",
    "\n",
    "poly_add = np.polyadd(poly1, poly2)\n",
    "poly_mul = np.polymul(poly1, poly2)\n",
    "\n",
    "print(\"Polynomial addition       : \", poly_add)\n",
    "print(\"Polynomial multiplication : \", poly_mul)"
   ]
  },
  {
   "cell_type": "markdown",
   "metadata": {},
   "source": [
    "\n",
    "---\n",
    "이번에는 다항식의 계수가 $\\mathbb{Z}_q$ 상에서 정의되는 다항식인 $\\mathbb{Z}_q[X]$ 에 대해서 알아보자.   \n",
    "\n",
    "간단하게 생각하여 이전에서 다루었던 다항식의 계수가 [0,q) 의 영역으로 제한된다고 생각하면 된다. 위의 정의를 빌려와 정리해보자.\n",
    "\n",
    ">$\\textbf{Definition : Polynomial addition in } \\mathbb{Z}_q[X]$   \n",
    ">\n",
    ">$G(x)$ 와 $H(x)$ 가 각각 $N-1$ 의 차수를 갖는 다항식이라 하자. 이 때 다항식 덧셈(polynomial addition)은 다음과 같이 정의된다:\n",
    ">\n",
    ">\\begin{align*}\n",
    ">    Y(x) = G(x) + H(x) = \\sum_{k=0}^{n-1} y_k \\cdot x^k, \\text{ where } y_k = g_k + h_k \\text{ mod }q.\n",
    ">\\end{align*}\n",
    "\n",
    ">$\\textbf{Definition : Polynomial multiplication in } \\mathbb{Z}_q[X]$   \n",
    ">\n",
    ">$G(x)$ 와 $H(x)$ 가 각각 $N-1$ 의 차수를 갖는 다항식이라 하자. 이 때 다항식 곱셈(polynomial multiplication)은 다음과 같이 정의된다:\n",
    ">\n",
    ">\\begin{align*}\n",
    ">    Y(x) = G(x) + H(x) = \\sum_{k=0}^{2(n-1)} y_k \\cdot x^k, \\text{ where } y_k = \\sum_{i=0}^{k} g_i \\cdot h_{k-i} \\text{ mod }q.\n",
    ">\\end{align*}\n",
    "\n",
    "위와 같이 계수를 결정하는 연산에 modulus 연산을 수행해주는 차이밖에 없다.\n",
    "\n",
    "이는 다음과 같이 코드로 표현할 수 있을 것이다."
   ]
  },
  {
   "cell_type": "code",
   "execution_count": 3,
   "metadata": {},
   "outputs": [
    {
     "name": "stdout",
     "output_type": "stream",
     "text": [
      "Polynomial addition       :  [6 0 2 4]\n",
      "Polynomial multiplication :  [5 0 2 4 5 4 0]\n"
     ]
    }
   ],
   "source": [
    "q = 8\n",
    "\n",
    "poly1 = [1, 2, 3, 4]\n",
    "poly2 = [5, 6, 7, 8]\n",
    "\n",
    "poly_add = np.polyadd(poly1, poly2)\n",
    "poly_mul = np.polymul(poly1, poly2)\n",
    "\n",
    "poly_add_Zq = np.mod(poly_add, q) # Modulus q\n",
    "poly_mul_Zq = np.mod(poly_mul, q) # Modulus q\n",
    "\n",
    "print(\"Polynomial addition       : \", poly_add_Zq)\n",
    "print(\"Polynomial multiplication : \", poly_mul_Zq)"
   ]
  },
  {
   "cell_type": "markdown",
   "metadata": {},
   "source": [
    "\n",
    "---\n",
    "# Quotient ring $\\mathbb{Z_q}[X]/(X^N+1)$ \n",
    "\n",
    "그럼 이제 본격적으로 우리가 주로 사용하게 될 대수적 구조 $\\mathbb{Z_q}[X]/(X^N+1)$ 에 대해서 자세히 알아보자.   \n",
    "\n",
    "시작하기 앞서 우리가 알아볼 특성에 대해서 정리하고 가자.\n",
    "\n",
    "* Addition\n",
    "* Multiplication ( Negacyclic convolution )\n",
    "* Negacyclic property\n",
    "\n",
    "### Addition\n",
    "\n",
    "덧셈의 경우에는 기존에 $\\mathbb{Z}_q[X]$ 상에서 정의되던 덧셈과 동일하다.\n",
    "\n",
    ">$\\textbf{Definition : Polynomial addition in } \\mathbb{Z}_q[X]/(X^N+1)$   \n",
    ">\n",
    ">$G(x)$ 와 $H(x)$ 가 각각 $N-1$ 의 차수를 갖는 다항식이라 하자. 이 때 다항식 덧셈(polynomial addition)은 다음과 같이 정의된다:\n",
    ">\n",
    ">\\begin{align*}\n",
    ">    Y(x) = G(x) + H(x) = \\sum_{k=0}^{n-1} y_k \\cdot x^k, \\text{ where } y_k = g_k + h_k \\text{ mod }q.\n",
    ">\\end{align*}\n",
    "\n",
    "### Multiplication\n",
    "\n",
    "곱셈의 경우에는 기존의 다루었던 다항식간의 곱셈과 많은 차이를 보인다. 설명하기 앞서 기존 다항식 곱셈에 대해서 생각해보자.   \n",
    "\n",
    "기존에 수행하던 다항식 곱셈은 곱셈을 수행하게 될 경우 다항식의 차수가 증가하는 모습을 보였다.   \n",
    "\n",
    "그러나 우리가 주로 다루는 $\\mathbb{Z}_q[X]/(X^N+1)$ 에서는 곱셈을 수행하여도 차수가 증가하지 않는다.   \n",
    "\n",
    "그 이유는 다항식 곱셈을 수행한 이후에 $(X^N+1)$ 로 나눈 후 나오는 나머지를 취하기 때문이다. 이는 다음과 같이 정의할 수 있다.\n",
    "\n",
    ">$\\textbf{Definition : Polynomial multiplication in } \\mathbb{Z}_q[X]/(X^N+1)$   \n",
    ">\n",
    ">$G(x)$ 와 $H(x)$ 가 각각 $N-1$ 의 차수를 갖는 다항식이라 하자. 이 때 다항식 곱셈(polynomial multiplication)은 다음과 같이 표현할 수 있다.   \n",
    ">\n",
    ">$G(x)$ 와 $H(x)$ 를 polynomial multiplication in $\\mathbb{Z}_q[X]$ 을 통해 곱해준 뒤 $(X^N+1)$ 으로 나눈 나머지를 취한다.   \n",
    ">\n",
    ">이는 다음과 같이 표현할 수 있다:\n",
    ">\n",
    ">\\begin{align*}\n",
    ">    G(x) * H(x) = Y(x) \\text{ mod } (X^N+1), \\text{ where }  Y(x) \\text{ is the result of polynomial multiplication in } \\mathbb{Z}_q[X].\n",
    ">\\end{align*}\n",
    ">\n",
    ">이는 다음과 같은 수식과 동치이다.\n",
    ">\n",
    "> \\begin{align*}\n",
    ">   G(x) * H(x) = \\sum_{k=0}^{N-1}c_kx^k \\text{, where } c_k = \\sum_{i=0}^{k}g_ih_{k-i} - \\sum_{i=k+1}^{N-1}g_ih_{k+N-i} \\mod q.\n",
    "> \\end{align*}\n",
    ">\n",
    "> 이러한 연산은 negacyclic convolution 이라 칭하기도 한다.\n",
    "\n",
    "마지막 특성인 negacyclic property 를 알아보기 전에 이전까지 배웠던 덧셈과 곱셈을 코드로 정리하고 가보자.   \n",
    "이는 암호문에서 실제로 사용되는 연산이며 우리가 구현해야할 구조체이기도 하다."
   ]
  },
  {
   "cell_type": "code",
   "execution_count": 4,
   "metadata": {},
   "outputs": [
    {
     "name": "stdout",
     "output_type": "stream",
     "text": [
      "Polynomial addition       :  [6 0 2 4]\n",
      "Polynomial multiplication :  [0. 4. 2. 4.]\n"
     ]
    }
   ],
   "source": [
    "q = 8\n",
    "N = 4\n",
    "\n",
    "poly1 = [1, 2, 3, 4]\n",
    "poly2 = [5, 6, 7, 8]\n",
    "\n",
    "# 덧셈의 경우에는 기존의 덧셈과 동일하다.\n",
    "poly_add      = np.polyadd(poly1, poly2)\n",
    "poly_add_ZqXn = np.mod(poly_add, q) # Modulus q\n",
    "\n",
    "# 곱셈의 경우에는 일반적인 다항식 곱셈 이후 (X^N+1) 을 나눈 후 나머지를 취하면 된다.\n",
    "divisor     = np.zeros(N+1) # (X^N+1)\n",
    "divisor[0]  = divisor[-1] = 1\n",
    "\n",
    "# 아래 곱셈에서 [::-1] 을 통해 역순을 취하는 이유는 배열의 인덱스 0에 상수항이 오도록 만들기 위해서이다.\n",
    "poly_mul      = np.polymul(poly1[::-1], poly2[::-1]) # 일반적인 다항식 곱\n",
    "_, remainder  = np.polydiv(poly_mul, divisor)        # (X^N+1) 을 나눈 후 나머지를 취함\n",
    "poly_mul_ZqXn = np.mod(remainder[::-1], q)           # 취한 나머지에 Mod q 연산\n",
    "\n",
    "print(\"Polynomial addition       : \", poly_add_ZqXn)\n",
    "print(\"Polynomial multiplication : \", poly_mul_ZqXn)"
   ]
  },
  {
   "cell_type": "markdown",
   "metadata": {},
   "source": [
    "Negacyclic convolution 을 통해서도 구현해보자."
   ]
  },
  {
   "cell_type": "code",
   "execution_count": 5,
   "metadata": {},
   "outputs": [],
   "source": [
    "def pad_coeffs(poly, N):\n",
    "    \"\"\"Pads coeffs with zeros to length n if necessary.\"\"\"\n",
    "    if len(poly) < N:\n",
    "        return np.pad(poly, (0, N - len(poly)), 'constant')\n",
    "    return poly\n",
    "\n",
    "def Nega_conv(poly1, poly2, q):\n",
    "    N = max(len(poly1), len(poly2))\n",
    "    result = []\n",
    "    poly1 = pad_coeffs(poly1, N)\n",
    "    poly2 = pad_coeffs(poly2, N)\n",
    "    for k in range(N):\n",
    "        v = 0\n",
    "        for i in range(k+1):\n",
    "            v += poly1[i] * poly2[k-i] \n",
    "        for i in range(k+1, N):\n",
    "            v -= poly1[i] * poly2[(k + N - i)]\n",
    "\n",
    "        result.append(v % q)\n",
    "    return result"
   ]
  },
  {
   "cell_type": "code",
   "execution_count": 6,
   "metadata": {},
   "outputs": [
    {
     "name": "stdout",
     "output_type": "stream",
     "text": [
      "Polynomial multiplication :  [0, 4, 2, 4]\n"
     ]
    }
   ],
   "source": [
    "q = 8\n",
    "N = 4\n",
    "\n",
    "poly1 = [1, 2, 3, 4]\n",
    "poly2 = [5, 6, 7, 8]\n",
    "\n",
    "poly_nega = Nega_conv(poly1, poly2, q)\n",
    "\n",
    "print(\"Polynomial multiplication : \", poly_nega)"
   ]
  },
  {
   "cell_type": "markdown",
   "metadata": {},
   "source": [
    "\n",
    "---\n",
    "\n",
    "### Negacyclic property\n",
    "\n",
    "$\\mathbb{Z}_q[X]/(X^N+1)$ 에 대한 한 가지 재미있는 사실이 있다. 바로 $X^N = -1$ 이라는 사실이다.   \n",
    "\n",
    "당연하다고 볼 수 있지만, 그럼에도 이는 꽤나 재밌는 모습을 보인다.\n",
    "\n",
    "이 모습을 비교하기 위해 $\\mathbb{Z}_q[X]/(X^N+1)$ 와 유사한 $\\mathbb{Z}_q[X]/(X^N-1)$ 에 대해서 생각해보자.   \n",
    "\n",
    "마찬가지로 덧셈은 동일하게 정의되며, 곱셈의 경우에는 $(X^N-1)$ 로 나눈다는 차이점을 보인다. 다음과 같이 정의해보자.\n",
    "\n",
    ">$\\textbf{Definition : Polynomial multiplication in } \\mathbb{Z}_q[X]/(X^N-1)$   \n",
    ">$G(x)$ 와 $H(x)$ 가 각각 $N-1$ 의 차수를 갖는 다항식이라 하자. 이 때 다항식 곱셈(polynomial multiplication)은 다음과 같이 표현할 수 있다.   \n",
    ">\n",
    ">$G(x)$ 와 $H(x)$ 를 polynomial multiplication in $\\mathbb{Z}_q[X]$ 을 통해 곱해준 뒤 $(X^N-1)$ 으로 나눈 나머지를 취한다.   \n",
    ">\n",
    ">이는 다음과 같이 표현할 수 있다:\n",
    ">\n",
    ">\\begin{align*}\n",
    ">    G(x) * H(x) = Y(x) \\text{ mod } (X^N-1), \\text{ where }  Y(x) \\text{ is the result of polynomial multiplication in } \\mathbb{Z}_q[X].\n",
    ">\\end{align*}\n",
    ">\n",
    ">이는 다음과 같은 수식과 동치이다.\n",
    "> \\begin{align*}\n",
    ">   G(x) * H(x) = \\sum_{k=0}^{N-1}c_kx^k \\text{, where } c_k = \\sum_{i=0}^{k}g_ih_{k-i} + \\sum_{i=k+1}^{N-1}g_ih_{k+N-i} \\mod q.\n",
    "> \\end{align*}\n",
    "> 이러한 연산은 cyclic convolution 이라 칭하기도 한다.\n",
    "\n",
    "코드로 한번 확인해보자."
   ]
  },
  {
   "cell_type": "code",
   "execution_count": 7,
   "metadata": {},
   "outputs": [
    {
     "name": "stdout",
     "output_type": "stream",
     "text": [
      "Polynomial multiplication :  [2. 4. 2. 4.]\n"
     ]
    }
   ],
   "source": [
    "q = 8\n",
    "N = 4\n",
    "\n",
    "poly1 = [1, 2, 3, 4]\n",
    "poly2 = [5, 6, 7, 8]\n",
    "\n",
    "# 곱셈의 경우에는 일반적인 다항식 곱셈 이후 (X^N-1) 을 나눈 후 나머지를 취하면 된다.\n",
    "divisor     = np.zeros(N+1) # (X^N-1)\n",
    "divisor[0]  = -1\n",
    "divisor[-1] = 1\n",
    "\n",
    "# 아래 곱셈에서 [::-1] 을 통해 역순을 취하는 이유는 배열의 인덱스 0에 상수항이 오도록 만들기 위해서이다.\n",
    "poly_mul      = np.polymul(poly1[::-1], poly2[::-1]) # 일반적인 다항식 곱\n",
    "_, remainder  = np.polydiv(poly_mul, divisor)        # (X^N-1) 을 나눈 후 나머지를 취함\n",
    "poly_mul_ZqXn = np.mod(remainder[::-1], q)           # 취한 나머지에 Mod q 연산\n",
    "\n",
    "print(\"Polynomial multiplication : \", poly_mul_ZqXn)"
   ]
  },
  {
   "cell_type": "markdown",
   "metadata": {},
   "source": [
    "다음은 cyclic convolution 으로 구현해보자."
   ]
  },
  {
   "cell_type": "code",
   "execution_count": 8,
   "metadata": {},
   "outputs": [],
   "source": [
    "def Cyc_conv(poly1, poly2, q):\n",
    "    N = max(len(poly1), len(poly2))\n",
    "    result = []\n",
    "    poly1 = pad_coeffs(poly1, N)\n",
    "    poly2 = pad_coeffs(poly2, N)\n",
    "    for k in range(N):\n",
    "        v = 0\n",
    "        for i in range(k+1):\n",
    "            v += poly1[i] * poly2[k-i] \n",
    "        for i in range(k+1, N):\n",
    "            v += poly1[i] * poly2[(k + N - i)]\n",
    "\n",
    "        result.append(v % q)\n",
    "    return result"
   ]
  },
  {
   "cell_type": "code",
   "execution_count": 9,
   "metadata": {},
   "outputs": [
    {
     "name": "stdout",
     "output_type": "stream",
     "text": [
      "Polynomial multiplication :  [2, 4, 2, 4]\n"
     ]
    }
   ],
   "source": [
    "q = 8\n",
    "N = 4\n",
    "\n",
    "poly1 = [1, 2, 3, 4]\n",
    "poly2 = [5, 6, 7, 8]\n",
    "\n",
    "poly_cyclic = Cyc_conv(poly1, poly2, q)\n",
    "\n",
    "print(\"Polynomial multiplication : \", poly_cyclic)"
   ]
  },
  {
   "cell_type": "markdown",
   "metadata": {},
   "source": [
    "\n",
    "---\n",
    "\n",
    "여기서 $(X^N+1)$ 과 $(X^N-1)$ 로 나눈 나머지를 취한다는 사실은 꽤나 큰 차이를 보인다.   \n",
    "\n",
    "우선 $\\mathbb{Z}_q[X]/(X^N-1)$ 상에서 정의된 다항식에 monomial $X$ 를 계속해서 곱해나가는 상황을 생각해보자.   \n",
    "\n",
    "$\\mathbb{Z}_q[X]/(X^N-1)$ 의 경우에는 $X^N = 1$ 을 갖기 때문에 마치 계수들이 회전하는 양상을 보인다. 다음의 코드를 보자.\n"
   ]
  },
  {
   "cell_type": "code",
   "execution_count": 10,
   "metadata": {},
   "outputs": [
    {
     "name": "stdout",
     "output_type": "stream",
     "text": [
      "poly * X ^ 1 = [15.0, 0.0, 1.0, 2.0, 3.0, 4.0, 5.0, 6.0, 7.0, 8.0, 9.0, 10.0, 11.0, 12.0, 13.0, 14.0]\n",
      "poly * X ^ 2 = [14.0, 15.0, 0.0, 1.0, 2.0, 3.0, 4.0, 5.0, 6.0, 7.0, 8.0, 9.0, 10.0, 11.0, 12.0, 13.0]\n",
      "poly * X ^ 3 = [13.0, 14.0, 15.0, 0.0, 1.0, 2.0, 3.0, 4.0, 5.0, 6.0, 7.0, 8.0, 9.0, 10.0, 11.0, 12.0]\n",
      "poly * X ^ 4 = [12.0, 13.0, 14.0, 15.0, 0.0, 1.0, 2.0, 3.0, 4.0, 5.0, 6.0, 7.0, 8.0, 9.0, 10.0, 11.0]\n",
      "poly * X ^ 5 = [11.0, 12.0, 13.0, 14.0, 15.0, 0.0, 1.0, 2.0, 3.0, 4.0, 5.0, 6.0, 7.0, 8.0, 9.0, 10.0]\n",
      "poly * X ^ 6 = [10.0, 11.0, 12.0, 13.0, 14.0, 15.0, 0.0, 1.0, 2.0, 3.0, 4.0, 5.0, 6.0, 7.0, 8.0, 9.0]\n",
      "poly * X ^ 7 = [9.0, 10.0, 11.0, 12.0, 13.0, 14.0, 15.0, 0.0, 1.0, 2.0, 3.0, 4.0, 5.0, 6.0, 7.0, 8.0]\n",
      "poly * X ^ 8 = [8.0, 9.0, 10.0, 11.0, 12.0, 13.0, 14.0, 15.0, 0.0, 1.0, 2.0, 3.0, 4.0, 5.0, 6.0, 7.0]\n",
      "poly * X ^ 9 = [7.0, 8.0, 9.0, 10.0, 11.0, 12.0, 13.0, 14.0, 15.0, 0.0, 1.0, 2.0, 3.0, 4.0, 5.0, 6.0]\n",
      "poly * X ^ 10 = [6.0, 7.0, 8.0, 9.0, 10.0, 11.0, 12.0, 13.0, 14.0, 15.0, 0.0, 1.0, 2.0, 3.0, 4.0, 5.0]\n",
      "poly * X ^ 11 = [5.0, 6.0, 7.0, 8.0, 9.0, 10.0, 11.0, 12.0, 13.0, 14.0, 15.0, 0.0, 1.0, 2.0, 3.0, 4.0]\n",
      "poly * X ^ 12 = [4.0, 5.0, 6.0, 7.0, 8.0, 9.0, 10.0, 11.0, 12.0, 13.0, 14.0, 15.0, 0.0, 1.0, 2.0, 3.0]\n",
      "poly * X ^ 13 = [3.0, 4.0, 5.0, 6.0, 7.0, 8.0, 9.0, 10.0, 11.0, 12.0, 13.0, 14.0, 15.0, 0.0, 1.0, 2.0]\n",
      "poly * X ^ 14 = [2.0, 3.0, 4.0, 5.0, 6.0, 7.0, 8.0, 9.0, 10.0, 11.0, 12.0, 13.0, 14.0, 15.0, 0.0, 1.0]\n",
      "poly * X ^ 15 = [1.0, 2.0, 3.0, 4.0, 5.0, 6.0, 7.0, 8.0, 9.0, 10.0, 11.0, 12.0, 13.0, 14.0, 15.0, 0.0]\n",
      "poly * X ^ 16 = [0.0, 1.0, 2.0, 3.0, 4.0, 5.0, 6.0, 7.0, 8.0, 9.0, 10.0, 11.0, 12.0, 13.0, 14.0, 15.0]\n"
     ]
    }
   ],
   "source": [
    "q = 16\n",
    "N = 16\n",
    "\n",
    "poly = [i for i in range(N)]   # 0 + 1x + 2x^2 + ... + 15X^15\n",
    "monomial      = np.zeros(N)\n",
    "monomial[1]   = 1              # X\n",
    "\n",
    "for i in range(N):\n",
    "    poly = Cyc_conv(poly, monomial, q)\n",
    "    print(\"poly * X ^\", i+1, \"=\", poly)"
   ]
  },
  {
   "cell_type": "markdown",
   "metadata": {},
   "source": [
    "위처럼 마치 계수가 오른쪽으로 하나씩 움직이는 양상을 보인다.\n",
    "\n",
    "그럼 이번에는 $\\mathbb{Z}_q[X]/(X^N+1)$ 에서 정의된 다항식에 monomial $X$ 를 계속해서 곱해나가는 상황을 생각해보자."
   ]
  },
  {
   "cell_type": "code",
   "execution_count": 11,
   "metadata": {},
   "outputs": [
    {
     "name": "stdout",
     "output_type": "stream",
     "text": [
      "poly * X ^ 1 = [1.0, 0.0, 1.0, 2.0, 3.0, 4.0, 5.0, 6.0, 7.0, 8.0, 9.0, 10.0, 11.0, 12.0, 13.0, 14.0]\n",
      "poly * X ^ 2 = [2.0, 1.0, 0.0, 1.0, 2.0, 3.0, 4.0, 5.0, 6.0, 7.0, 8.0, 9.0, 10.0, 11.0, 12.0, 13.0]\n",
      "poly * X ^ 3 = [3.0, 2.0, 1.0, 0.0, 1.0, 2.0, 3.0, 4.0, 5.0, 6.0, 7.0, 8.0, 9.0, 10.0, 11.0, 12.0]\n",
      "poly * X ^ 4 = [4.0, 3.0, 2.0, 1.0, 0.0, 1.0, 2.0, 3.0, 4.0, 5.0, 6.0, 7.0, 8.0, 9.0, 10.0, 11.0]\n",
      "poly * X ^ 5 = [5.0, 4.0, 3.0, 2.0, 1.0, 0.0, 1.0, 2.0, 3.0, 4.0, 5.0, 6.0, 7.0, 8.0, 9.0, 10.0]\n",
      "poly * X ^ 6 = [6.0, 5.0, 4.0, 3.0, 2.0, 1.0, 0.0, 1.0, 2.0, 3.0, 4.0, 5.0, 6.0, 7.0, 8.0, 9.0]\n",
      "poly * X ^ 7 = [7.0, 6.0, 5.0, 4.0, 3.0, 2.0, 1.0, 0.0, 1.0, 2.0, 3.0, 4.0, 5.0, 6.0, 7.0, 8.0]\n",
      "poly * X ^ 8 = [8.0, 7.0, 6.0, 5.0, 4.0, 3.0, 2.0, 1.0, 0.0, 1.0, 2.0, 3.0, 4.0, 5.0, 6.0, 7.0]\n",
      "poly * X ^ 9 = [9.0, 8.0, 7.0, 6.0, 5.0, 4.0, 3.0, 2.0, 1.0, 0.0, 1.0, 2.0, 3.0, 4.0, 5.0, 6.0]\n",
      "poly * X ^ 10 = [10.0, 9.0, 8.0, 7.0, 6.0, 5.0, 4.0, 3.0, 2.0, 1.0, 0.0, 1.0, 2.0, 3.0, 4.0, 5.0]\n",
      "poly * X ^ 11 = [11.0, 10.0, 9.0, 8.0, 7.0, 6.0, 5.0, 4.0, 3.0, 2.0, 1.0, 0.0, 1.0, 2.0, 3.0, 4.0]\n",
      "poly * X ^ 12 = [12.0, 11.0, 10.0, 9.0, 8.0, 7.0, 6.0, 5.0, 4.0, 3.0, 2.0, 1.0, 0.0, 1.0, 2.0, 3.0]\n",
      "poly * X ^ 13 = [13.0, 12.0, 11.0, 10.0, 9.0, 8.0, 7.0, 6.0, 5.0, 4.0, 3.0, 2.0, 1.0, 0.0, 1.0, 2.0]\n",
      "poly * X ^ 14 = [14.0, 13.0, 12.0, 11.0, 10.0, 9.0, 8.0, 7.0, 6.0, 5.0, 4.0, 3.0, 2.0, 1.0, 0.0, 1.0]\n",
      "poly * X ^ 15 = [15.0, 14.0, 13.0, 12.0, 11.0, 10.0, 9.0, 8.0, 7.0, 6.0, 5.0, 4.0, 3.0, 2.0, 1.0, 0.0]\n",
      "poly * X ^ 16 = [0.0, 15.0, 14.0, 13.0, 12.0, 11.0, 10.0, 9.0, 8.0, 7.0, 6.0, 5.0, 4.0, 3.0, 2.0, 1.0]\n"
     ]
    }
   ],
   "source": [
    "q = 16\n",
    "N = 16\n",
    "\n",
    "poly = [i for i in range(N)]   # 0 + 1x + 2x^2 + ... + 15X^15\n",
    "monomial      = np.zeros(N)\n",
    "monomial[1]   = 1              # X\n",
    "\n",
    "for i in range(N):\n",
    "    poly = Nega_conv(poly, monomial, q)\n",
    "    print(\"poly * X ^\", i+1, \"=\", poly)"
   ]
  },
  {
   "cell_type": "markdown",
   "metadata": {},
   "source": [
    "$\\mathbb{Z}_q[X]/(X^N-1)$ 과 달리 $\\mathbb{Z}_q[X]/(X^N+1)$ 에서는 $X^N = -1$ 이기 때문에 단순히 계수가 회전하는 모습이 아니라 회전과 동시에 부호가 반전된다는 것을 알 수 있다.   \n",
    "첫 번째 경우를 예시로 들면 $-15 \\text{ mod } 16 = 1$ 이므로 $1$이 상수항에 위치해 있다는 것을 알 수 있다.\n",
    "\n",
    "이 외에도 다양한 $\\mathbb{Z}_q[X]/(X^N+1)$ 의 특징들이 있으나 우선은 이정도로 정리하고 다음으로 넘어가도록 하자."
   ]
  },
  {
   "cell_type": "markdown",
   "metadata": {},
   "source": [
    "\n",
    "---\n",
    "\n",
    "## Summary\n",
    "\n",
    "이번 장에서는 동형암호에서 많이 사용하는 대수적 구조 $\\mathbb{Z}_q[X]/(X^N+1)$ 에 대해서 자세히 살펴보았다.   \n",
    "\n",
    "다음과 같은 요점을 주로 살펴보면 좋을 것이다.   \n",
    "\n",
    "* Addition in $\\mathbb{Z}_q[X]/(X^N+1)$.\n",
    "* Multiplication(Negacyclic convolution) in $\\mathbb{Z}_q[X]/(X^N+1)$.\n",
    "* Negacyclic property in $\\mathbb{Z}_q[X]/(X^N+1)$.\n",
    "\n",
    "이미 동형암호를 어느정도 배워 익숙하거나 혹은 배우고 있는 사람들은 더욱 이러한 구조적 특성을 잘 파악하기를 바란다.   \n",
    "\n",
    "실제로 우리가 동형암호에서 사용하는 연산은 대부분이 이 연산이다.   \n",
    "\n",
    "이 연산만으로 bootstrapping, polynomial approximation, element-wise operation(SIMD), logic gate operation 등 정말 많은 연산을 암호화 된 상태에서 수행할 수 있다.   \n",
    "\n",
    "과연 어떻게 이러한 연산을 위의 대수적 구조상에서 정의되는 연산만으로 수행할 수 있는지에 대해서 많이 고민해보면 좋을 것 같다."
   ]
  },
  {
   "cell_type": "markdown",
   "metadata": {},
   "source": [
    "\n",
    "---\n",
    "\n",
    "## Code implementation\n",
    "\n",
    "`note_include/elem/Ring.py` 를 확인하면 위에서 정의한 연산들이 있는 $\\mathbb{Z}_q[X]/(X^N+1)$ 구현을 확인할 수 있다."
   ]
  }
 ],
 "metadata": {
  "kernelspec": {
   "display_name": "Python 3",
   "language": "python",
   "name": "python3"
  },
  "language_info": {
   "codemirror_mode": {
    "name": "ipython",
    "version": 3
   },
   "file_extension": ".py",
   "mimetype": "text/x-python",
   "name": "python",
   "nbconvert_exporter": "python",
   "pygments_lexer": "ipython3",
   "version": "3.10.12"
  }
 },
 "nbformat": 4,
 "nbformat_minor": 2
}
