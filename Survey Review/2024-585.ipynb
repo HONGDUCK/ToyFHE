{
 "cells": [
  {
   "cell_type": "markdown",
   "metadata": {},
   "source": [
    "# <a href=https://eprint.iacr.org/2024/585>A Complete Beginner Guide to the Number Theoretic Transform (NTT)</a>"
   ]
  },
  {
   "cell_type": "code",
   "execution_count": 1,
   "metadata": {},
   "outputs": [],
   "source": [
    "import numpy as np"
   ]
  },
  {
   "cell_type": "markdown",
   "metadata": {},
   "source": [
    "# Cyclic Convolution"
   ]
  },
  {
   "cell_type": "markdown",
   "metadata": {},
   "source": [
    "$\\textbf{Definition}$\n",
    "\n",
    "Suppose that $G(x)$ and $H(x)$ are polynomials with degree $n-1$ in the quotient ring $\\Z[x]/(x^n-1)$ where $q\\in \\Z$.\n",
    "\n",
    "A $\\textbf{cyclic convolution}$ or $\\textbf{positive wrapped convolution}$, $\\textsf{PWC}(x)$ is defined as:\n",
    "\n",
    "\\begin{align*}\n",
    "    \\textsf{PWC}(x) = \\sum_{k=0}^{n-1} c_k x^k \\text{ where } c_k = \\sum_{i=0}^{k} g_i h_{k-1} + \\sum_{i=k+1}^{n-1} g_i h_{k+n-i} \\mod q.\n",
    "\\end{align*}\n",
    "\n",
    "Let $Y(x)$ is the result of linear convolution in the ring $\\Z[x]$, it also can be defined as:\n",
    "\n",
    "\\begin{align*}\n",
    "    \\textsf{PWC}(x) = Y(x) \\mod (x^n-1).\n",
    "\\end{align*}"
   ]
  },
  {
   "cell_type": "code",
   "execution_count": 2,
   "metadata": {},
   "outputs": [
    {
     "name": "stdout",
     "output_type": "stream",
     "text": [
      "Result of PWC :  [66, 68, 66, 60]\n",
      "Remainder of Polydiv :  [66. 68. 66. 60.]\n"
     ]
    }
   ],
   "source": [
    "def PWC(poly1, poly2):\n",
    "    n = len(poly1)\n",
    "    result = []\n",
    "    for k in range(n):\n",
    "        v = 0\n",
    "        for i in range(k+1):\n",
    "            v += poly1[i] * poly2[k-i]\n",
    "        for i in range(k+1, n):\n",
    "            v += poly1[i] * poly2[(k + n - i)]\n",
    "\n",
    "        result.append(v)\n",
    "    return result\n",
    "\n",
    "poly1 = [1, 2, 3, 4]\n",
    "poly2 = [5, 6, 7, 8]\n",
    "print(\"Result of PWC : \", PWC(poly1, poly2))\n",
    "\n",
    "poly1 = np.array([4, 3, 2, 1])  # 1 + 2X + 3X^2 + 4X^3\n",
    "poly2 = np.array([8, 7, 6, 5])  # 4 + 3X + 2X^2 + 1X^3\n",
    "divisor = np.array([1, 0, 0, 0, -1])  # X^4 + 1\n",
    "product = np.polymul(poly1, poly2)\n",
    "quotient, remainder = np.polydiv(product, divisor)\n",
    "print(\"Remainder of Polydiv : \", remainder[::-1])"
   ]
  },
  {
   "cell_type": "markdown",
   "metadata": {},
   "source": [
    "---\n",
    "# Negacyclic Convolution"
   ]
  },
  {
   "cell_type": "markdown",
   "metadata": {},
   "source": [
    "> $\\textbf{Definition.}$ \n",
    "> Suppose that $G(x)$ and $H(x)$ are polynomials with degree $n-1$ in the quotient ring $\\mathbb{Z}[x]/(x^n+1)$ where $q \\in \\mathbb{Z}$.\n",
    ">\n",
    "> A $\\textbf{negacyclic convolution}$ or $\\textbf{negative wrapped convolution}$, $\\textsf{NWC}(x)$ is defined as : \n",
    "> \n",
    "> \\begin{align*}\n",
    ">   \\textsf{NWC}(x) = \\sum_{k=0}^{n-1}c_kx^k \\text{, where } c_k = \\sum_{i=0}^{k}g_ih_{k-i} - \\sum_{i=k+1}^{n-1}g_ih_{k+n-i} \\mod q.\n",
    "> \\end{align*}\n",
    ">\n",
    "> Let $Y(x)$ is the result of linear convolution in the ring $\\mathbb{Z}[x]$, it also can be defined as\n",
    ">\n",
    "> \\begin{align*}\n",
    ">       \\textsf{NWC}(x) = Y(x) \\mod (x^n+1).\n",
    "> \\end{align*}"
   ]
  },
  {
   "cell_type": "code",
   "execution_count": 3,
   "metadata": {},
   "outputs": [
    {
     "name": "stdout",
     "output_type": "stream",
     "text": [
      "Result of NWC :  [-56, -36, 2, 60]\n",
      "Remainder of Polydiv :  [-56. -36.   2.  60.]\n"
     ]
    }
   ],
   "source": [
    "def NWC(poly1, poly2):\n",
    "    n = len(poly1)\n",
    "    result = []\n",
    "    for k in range(n):\n",
    "        v = 0\n",
    "        for i in range(k+1):\n",
    "            v += poly1[i] * poly2[k-i]\n",
    "        for i in range(k+1, n):\n",
    "            v -= poly1[i] * poly2[(k + n - i)]\n",
    "\n",
    "        result.append(v)\n",
    "    return result\n",
    "\n",
    "poly1 = [1, 2, 3, 4]\n",
    "poly2 = [5, 6, 7, 8]\n",
    "print(\"Result of NWC : \", NWC(poly1, poly2))\n",
    "\n",
    "poly1 = np.array([4, 3, 2, 1])  # 1 + 2X + 3X^2 + 4X^3\n",
    "poly2 = np.array([8, 7, 6, 5])  # 4 + 3X + 2X^2 + 1X^3\n",
    "divisor = np.array([1, 0, 0, 0, 1])  # X^4 + 1\n",
    "product = np.polymul(poly1, poly2)\n",
    "quotient, remainder = np.polydiv(product, divisor)\n",
    "print(\"Remainder of Polydiv : \", remainder[::-1])"
   ]
  },
  {
   "cell_type": "markdown",
   "metadata": {},
   "source": [
    "---\n",
    "# NTT-based Cyclic Convolution"
   ]
  },
  {
   "cell_type": "markdown",
   "metadata": {},
   "source": [
    ">$\\textbf{Definition}$\n",
    ">\n",
    ">Let $\\Z_q$ be an integer ring modulo $q$, and $n-1$ is the polynomial degree of $G(x)$ and $H(x)$ and $\\omega$ is its primitive $n$-th root of unity.\n",
    ">\n",
    ">Such rings have a multiplicative identity (unity) of 1.\n",
    ">\n",
    ">Define $\\omega$ as the primitive $n$-th root of unity in $\\Z_q$ iff\n",
    ">\n",
    ">$$\n",
    ">    \\omega^n \\equiv \\mod q \\text{ and } \\omega^k \\not\\equiv 1 \\mod q \\text{ for } k<n .\n",
    ">$$\n",
    "\n",
    ">$\\textbf{Definition}$\n",
    ">\n",
    ">The Number Theoretic Transform (NTT) of a vector of polynomial coefficients $\\bm{a}$ is defined as $\\hat{\\bm{a}} = \\textsf{NTT}(\\bm{a})$, where:\n",
    ">\n",
    ">$$\n",
    ">    \\hat{\\bm{a}}_j = \\sum_{i=0}^{n-1} \\omega^{ij}a_i \\mod q \n",
    ">$$\n",
    ">\n",
    ">and $j=0,1, \\dots, n-1$ .\n",
    "\n",
    ">$\\textbf{Definition}$\n",
    ">\n",
    ">The inverse of Number Theoretic Transform ($\\textsf{INTT}$) of an NTT vector $\\hat{\\bm{a}}$ is defined as $\\bm{a} = \\textsf{INTT}(\\hat{\\bm{a}})$, where:\n",
    ">\n",
    ">$$\n",
    ">    \\bm{a}_i = n^{-1} \\sum_{j=0}^{n-1} \\omega^{-ij} \\hat{a}_j \\mod q,\n",
    ">$$\n",
    ">\n",
    ">and $j=0, 1, 2, \\dots, n-1.$\n",
    "\n",
    "Note that when \n",
    "* $n=4$\n",
    "* $\\omega = 3383$\n",
    "\n",
    "then\n",
    "* $n^{-1} = 5761$\n",
    "* $\\omega^{-1} = 4298$"
   ]
  },
  {
   "cell_type": "code",
   "execution_count": 4,
   "metadata": {},
   "outputs": [
    {
     "name": "stdout",
     "output_type": "stream",
     "text": [
      "NTT  of the polynomial coefficients :  [  10  913 7679 6764]\n",
      "NTT  of the polynomial coefficients :  [  26  913 7679 6764]\n",
      "INTT of the polynomial coefficients :  [1 2 3 4]\n",
      "INTT of the polynomial coefficients :  [5 6 7 8]\n"
     ]
    }
   ],
   "source": [
    "def positive_wrapped_ntt(a, omega, q):\n",
    "    n = len(a)\n",
    "    # Initialize the result vector with zeros\n",
    "    hat_a = np.zeros(n, dtype=int)\n",
    "    \n",
    "    # Loop over each j to compute hat_a[j]\n",
    "    for j in range(n):\n",
    "        # Summation: hat_a[j] = sum(omega^(ij) * a_i) mod q\n",
    "        summation = 0\n",
    "        for i in range(n):\n",
    "            exponent = (i * j) % (n) # exponent ij modulo n\n",
    "            summation += pow(omega, exponent, q) * a[i]\n",
    "        \n",
    "        # Take modulo q for the result\n",
    "        hat_a[j] = summation % q\n",
    "    \n",
    "    return hat_a\n",
    "\n",
    "def positive_wrapped_intt(hat_a, omega_inv, q, n_inv):\n",
    "    # Initialize the result vector with zeros\n",
    "    a = np.zeros(n, dtype=int)\n",
    "    \n",
    "    # Loop over each j to compute hat_a[j]\n",
    "    for i in range(n):\n",
    "        # Summation: a[i] = sum(omega_inv^{-(ij)} * hat_a[j]) mod q\n",
    "        summation = 0\n",
    "        for j in range(n):\n",
    "            exponent = (i * j) % (n) # exponent 2ij + i modulo 2n\n",
    "            summation += pow(omega_inv, exponent, q) * hat_a[j]\n",
    "        \n",
    "        # Take modulo q for the result\n",
    "        a[i] = (n_inv * summation) % q\n",
    "    \n",
    "    return a\n",
    "\n",
    "# Example usage:\n",
    "\n",
    "# Polynomial coefficients a = [a_0, a_1, ..., a_{n-1}]\n",
    "a = [1, 2, 3, 4]  # Example input polynomial\n",
    "b = [5, 6, 7, 8]  # Example input polynomial\n",
    "n = 4    # Degree n-1\n",
    "n_inv = 5761\n",
    "q = 7681  # Modulo value q\n",
    "omega = 3383  # A primitive root or some suitable value for psi\n",
    "omega_inv = 4298\n",
    "\n",
    "# Compute the Positive-Wrapped NTT\n",
    "hat_a = positive_wrapped_ntt(a, omega, q)\n",
    "hat_b = positive_wrapped_ntt(b, omega, q)\n",
    "\n",
    "a = positive_wrapped_intt(hat_a, omega_inv, q, n_inv)\n",
    "b = positive_wrapped_intt(hat_b, omega_inv, q, n_inv)\n",
    "\n",
    "\n",
    "print(\"NTT  of the polynomial coefficients : \", hat_a)\n",
    "print(\"NTT  of the polynomial coefficients : \", hat_b)\n",
    "print(\"INTT of the polynomial coefficients : \", a)\n",
    "print(\"INTT of the polynomial coefficients : \", b)"
   ]
  },
  {
   "cell_type": "markdown",
   "metadata": {},
   "source": [
    ">$\\textbf{Proposition}$\n",
    ">\n",
    ">Let $\\bm{a}$ and $\\bm{b}$ are the multiplicands' vectors of polynomial coefficients.\n",
    ">\n",
    ">The positive-wrapped convolution of $\\bm{a}$ and $\\bm{b}$ can be calculated by:\n",
    ">\n",
    ">\\begin{align*}\n",
    ">    \\bm{c} = \\textsf{INTT}(\\textsf{NTT}(\\bm{a}) \\circ \\textsf{NTT}(\\bm{b}))\n",
    ">\\end{align*}\n",
    ">\n",
    ">where $\\circ$ is an element-wise multiplication in $\\Z_q$."
   ]
  },
  {
   "cell_type": "code",
   "execution_count": 5,
   "metadata": {},
   "outputs": [
    {
     "name": "stdout",
     "output_type": "stream",
     "text": [
      "[66 68 66 60]\n"
     ]
    }
   ],
   "source": [
    "def NTT_like_PWC(poly1, poly2, omega, omega_inv, n, n_inv, q):\n",
    "    ntt_poly1 = positive_wrapped_ntt(poly1, omega, q)\n",
    "    ntt_poly2 = positive_wrapped_ntt(poly2, omega, q)\n",
    "\n",
    "    ntt_res = np.zeros(n)\n",
    "    for i in range(n):\n",
    "        ntt_res[i] = (ntt_poly1[i] * ntt_poly2[i]) % q\n",
    "    \n",
    "    poly_nega_conv = positive_wrapped_intt(ntt_res, omega_inv, q, n_inv)\n",
    "    return poly_nega_conv\n",
    "\n",
    "# Polynomial coefficients a = [a_0, a_1, ..., a_{n-1}]\n",
    "a = [1, 2, 3, 4]  # Example input polynomial\n",
    "b = [5, 6, 7, 8]  # Example input polynomial\n",
    "n = 4    # Degree n-1\n",
    "n_inv = 5761\n",
    "q = 7681  # Modulo value q\n",
    "omega = 3383  # A primitive root or some suitable value for psi\n",
    "omega_inv = 4298\n",
    "\n",
    "res = NTT_like_PWC(a, b, omega, omega_inv, n, n_inv, q)\n",
    "print(res)"
   ]
  },
  {
   "cell_type": "markdown",
   "metadata": {},
   "source": [
    "---\n",
    "# NTT-based Negacyclic Convolution"
   ]
  },
  {
   "cell_type": "markdown",
   "metadata": {},
   "source": [
    ">$\\textbf{Definition}$\n",
    ">\n",
    ">Let $\\Z_q$ be an integer ring modulo $q$, and $n-1$ is the polynomial degree of $G(x)$ and $H(x)$ and $\\omega$ is its primitive $n$-th root of unity.\n",
    ">\n",
    ">Define $\\psi$ as the primitive $2n$-th root of unity iff\n",
    ">\n",
    ">$$\n",
    ">    \\psi^2 \\equiv \\omega \\mod q \\text{     and      } \\psi^n \\equiv -1 \\mod q.\n",
    ">$$\n",
    "\n",
    "\n",
    "\n",
    "\n",
    ">$\\textbf{Definition}$ \n",
    ">\n",
    ">The Negative-Wrapped Number Theoretic Transform($\\text{NTT}^\\psi$) of a vector of polynomial coefficients $\\bm{a}$ is defined as $\\hat{\\bm{a}}$ = $\\text{NTT}^{\\psi}(\\bm{a})$, where\n",
    ">\n",
    ">\\begin{align*}\n",
    ">    \\hat{a}_j = \\sum_{i=0}^{n-1} \\psi^i \\omega^{ij} a_i \\mod q, \n",
    ">\\end{align*}\n",
    ">\n",
    ">and $j=0,1,2, \\dots, n-1$. As $\\psi^2 \\equiv \\omega \\mod q$, we can substitute $\\omega = \\psi^2$,\n",
    ">\n",
    ">\\begin{align*}\n",
    ">    \\hat{\\bm{a}}_j = \\sum_{i=0}^{n-1} \\psi^{2ij + i}a_i \\mod q.\n",
    ">\\end{align*}\n",
    "\n",
    ">$\\textbf{Definition}$\n",
    ">\n",
    ">The Negative-Wrapped Inverse of Number Theoretic Transform (INTT) of an NTT vector $\\bm{\\hat{a}}$ is defined as $\\bm{a} = \\textsf{INTT}^{\\psi^{-1}}(\\hat{\\bm{a}})$, where\n",
    ">\n",
    ">\\begin{align*}\n",
    ">    \\bm{a}_i = n^{-1} \\sum_{j=0}^{n-1} \\psi^{-1} \\omega^{-ij} \\hat{a}_j \\mod q \n",
    ">\\end{align*}\n",
    ">\n",
    ">and $i=0, 1, 2, \\dots, n-1.$ Substiituting $\\omega = \\psi^2$ yields:\n",
    ">\n",
    ">\\begin{align*}\n",
    ">    \\bm{a}_i = n^{-1} \\sum_{j=0}^{n-1} \\psi^{-(2ij+i)} \\hat{a}_j \\mod q\n",
    ">\\end{align*}\n",
    "\n",
    "Note that when \n",
    "* $n=4$\n",
    "* $\\psi = 1925$\n",
    "\n",
    "then\n",
    "* $n^{-1} = 5761$\n",
    "* $\\psi^{-1} = 1213$"
   ]
  },
  {
   "cell_type": "code",
   "execution_count": 6,
   "metadata": {},
   "outputs": [
    {
     "name": "stdout",
     "output_type": "stream",
     "text": [
      "NTT^ψ of the polynomial coefficients: [1467 2807 3471 7621]\n",
      "NTT^ψ of the polynomial coefficients: [2489 7489 6478 6607]\n",
      "INTT^ψ of the polynomial coefficients: [1 2 3 4]\n",
      "INTT^ψ of the polynomial coefficients: [5 6 7 8]\n"
     ]
    }
   ],
   "source": [
    "def negative_wrapped_ntt(a, psi, q):\n",
    "    n = len(a)\n",
    "    # Initialize the result vector with zeros\n",
    "    hat_a = np.zeros(n, dtype=int)\n",
    "    \n",
    "    # Loop over each j to compute hat_a[j]\n",
    "    for j in range(n):\n",
    "        # Summation: hat_a[j] = sum(psi^(2ij + i) * a_i) mod q\n",
    "        summation = 0\n",
    "        for i in range(n):\n",
    "            exponent = (2 * i * j + i) % (2*n) # exponent 2ij + i modulo 2n\n",
    "            summation += pow(psi, exponent, q) * a[i]\n",
    "        \n",
    "        # Take modulo q for the result\n",
    "        hat_a[j] = summation % q\n",
    "    \n",
    "    return hat_a\n",
    "\n",
    "def negative_wrapped_intt(hat_a, psi_inv, q, n_inv):\n",
    "    # Initialize the result vector with zeros\n",
    "    a = np.zeros(n, dtype=int)\n",
    "    \n",
    "    # Loop over each j to compute hat_a[j]\n",
    "    for i in range(n):\n",
    "        # Summation: a[i] = sum(psi_inv^-{(2ij + j)} * hat_a[j]) mod q\n",
    "        summation = 0\n",
    "        for j in range(n):\n",
    "            exponent = (2 * i * j + i) % (2*n) # exponent 2ij + i modulo 2n\n",
    "            summation += pow(psi_inv, exponent, q) * hat_a[j]\n",
    "        \n",
    "        # Take modulo q for the result\n",
    "        a[i] = (n_inv * summation) % q\n",
    "    \n",
    "    return a\n",
    "\n",
    "# Example usage:\n",
    "\n",
    "# Polynomial coefficients a = [a_0, a_1, ..., a_{n-1}]\n",
    "a = [1, 2, 3, 4]  # Example input polynomial\n",
    "b = [5, 6, 7, 8]  # Example input polynomial\n",
    "n = 4    # Degree n-1\n",
    "n_inv = 5761\n",
    "q = 7681  # Modulo value q\n",
    "psi = 1925  # A primitive root or some suitable value for psi\n",
    "psi_inv = 1213\n",
    "\n",
    "# Compute the Negative-Wrapped NTT\n",
    "hat_a = negative_wrapped_ntt(a, psi, q)\n",
    "hat_b = negative_wrapped_ntt(b, psi, q)\n",
    "\n",
    "a = negative_wrapped_intt(hat_a, psi_inv, q, n_inv)\n",
    "b = negative_wrapped_intt(hat_b, psi_inv, q, n_inv)\n",
    "\n",
    "\n",
    "print(\"NTT^ψ of the polynomial coefficients:\", hat_a)\n",
    "print(\"NTT^ψ of the polynomial coefficients:\", hat_b)\n",
    "print(\"INTT^ψ of the polynomial coefficients:\", a)\n",
    "print(\"INTT^ψ of the polynomial coefficients:\", b)"
   ]
  },
  {
   "cell_type": "markdown",
   "metadata": {},
   "source": [
    ">$\\textbf{Proposition}$\n",
    ">\n",
    ">Let $\\bm{a}$ and $\\bm{b}$ are the multiplicands' vectors of polynomial coefficients.\n",
    ">\n",
    ">The negative-wrapped convolution of $\\bm{a}$ and $\\bm{b}$ can be calculated by:\n",
    ">\n",
    ">\\begin{align*}\n",
    ">    \\bm{c} = \\textsf{INTT}^{\\psi^{-1}}(\\textsf{NTT}^\\psi(\\bm{a}) \\circ \\textsf{NTT}^{\\psi}(\\bm{b}))\n",
    ">\\end{align*}\n",
    ">\n",
    ">where $\\circ$ is an element-wise multiplication in $\\Z_q$."
   ]
  },
  {
   "cell_type": "code",
   "execution_count": 7,
   "metadata": {},
   "outputs": [
    {
     "name": "stdout",
     "output_type": "stream",
     "text": [
      "[7625 7645    2   60]\n"
     ]
    }
   ],
   "source": [
    "def NTT_like_NWC(poly1, poly2, psi, psi_inv, n, n_inv, q):\n",
    "    ntt_poly1 = negative_wrapped_ntt(poly1, psi, q)\n",
    "    ntt_poly2 = negative_wrapped_ntt(poly2, psi, q)\n",
    "\n",
    "    ntt_res = np.zeros(n)\n",
    "    for i in range(n):\n",
    "        ntt_res[i] = (ntt_poly1[i] * ntt_poly2[i]) % q\n",
    "    \n",
    "    poly_nega_conv = negative_wrapped_intt(ntt_res, psi_inv, q, n_inv)\n",
    "    return poly_nega_conv\n",
    "\n",
    "# Polynomial coefficients a = [a_0, a_1, ..., a_{n-1}]\n",
    "a = [1, 2, 3, 4]  # Example input polynomial\n",
    "b = [5, 6, 7, 8]  # Example input polynomial\n",
    "q = 7681  # Modulo value q\n",
    "n = 4  # Degree n-1\n",
    "n_inv = 5761\n",
    "psi = 1925  # A primitive root or some suitable value for psi\n",
    "psi_inv = 1213\n",
    "\n",
    "res = NTT_like_NWC(a, b, psi, psi_inv, n, n_inv, q)\n",
    "print(res)"
   ]
  },
  {
   "cell_type": "markdown",
   "metadata": {},
   "source": [
    "---\n",
    "# Simple Example"
   ]
  },
  {
   "cell_type": "code",
   "execution_count": 8,
   "metadata": {},
   "outputs": [
    {
     "name": "stdout",
     "output_type": "stream",
     "text": [
      "[66 68 66 60]\n",
      "[7625 7645    2   60]\n"
     ]
    }
   ],
   "source": [
    "# Polynomial coefficients a = [a_0, a_1, ..., a_{n-1}]\n",
    "\n",
    "a         = [1, 2, 3, 4]  # Example input polynomial\n",
    "b         = [5, 6, 7, 8]  # Example input polynomial\n",
    "q         = 7681          # Modulo value q\n",
    "n         = 4             # Degree n-1\n",
    "n_inv     = 5761\n",
    "omega     = 3383          # A primitive root or some suitable value for psi\n",
    "omega_inv = 4298\n",
    "psi       = 1925          # A primitive root or some suitable value for psi\n",
    "psi_inv   = 1213\n",
    "\n",
    "res_p = NTT_like_PWC(a, b, omega, omega_inv, n, n_inv, q)\n",
    "res_n = NTT_like_NWC(a, b, psi, psi_inv, n, n_inv, q)\n",
    "\n",
    "print(res_p)\n",
    "print(res_n)"
   ]
  },
  {
   "cell_type": "code",
   "execution_count": null,
   "metadata": {},
   "outputs": [],
   "source": []
  },
  {
   "cell_type": "code",
   "execution_count": null,
   "metadata": {},
   "outputs": [],
   "source": []
  },
  {
   "cell_type": "code",
   "execution_count": null,
   "metadata": {},
   "outputs": [],
   "source": []
  },
  {
   "cell_type": "code",
   "execution_count": null,
   "metadata": {},
   "outputs": [],
   "source": [
    "\n"
   ]
  },
  {
   "cell_type": "code",
   "execution_count": null,
   "metadata": {},
   "outputs": [],
   "source": []
  },
  {
   "cell_type": "code",
   "execution_count": null,
   "metadata": {},
   "outputs": [],
   "source": []
  },
  {
   "cell_type": "code",
   "execution_count": null,
   "metadata": {},
   "outputs": [],
   "source": []
  }
 ],
 "metadata": {
  "kernelspec": {
   "display_name": "Python 3",
   "language": "python",
   "name": "python3"
  },
  "language_info": {
   "codemirror_mode": {
    "name": "ipython",
    "version": 3
   },
   "file_extension": ".py",
   "mimetype": "text/x-python",
   "name": "python",
   "nbconvert_exporter": "python",
   "pygments_lexer": "ipython3",
   "version": "3.10.12"
  }
 },
 "nbformat": 4,
 "nbformat_minor": 2
}
